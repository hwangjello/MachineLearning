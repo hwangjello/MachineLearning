{
  "cells": [
    {
      "cell_type": "markdown",
      "metadata": {
        "id": "MdE1jk2Ek8s5"
      },
      "source": [
        "# NumPy Arrays - Part 4<br>\n",
        "\n",
        "by uramoon@kw.ac.kr<br>\n",
        "원본 출처: Introduction to Deep Learning at Carnegie Mellon University (https://deeplearning.cs.cmu.edu/S22/index.html)"
      ]
    },
    {
      "cell_type": "code",
      "execution_count": 41,
      "metadata": {
        "id": "JsBJNZ7-k6Fn"
      },
      "outputs": [],
      "source": [
        "# Import the NumPy \n",
        "import numpy as np"
      ]
    },
    {
      "cell_type": "markdown",
      "metadata": {
        "id": "5o4Of13sk_vc"
      },
      "source": [
        "## Reshaping Arrays (배열의 모양을 다르게 해석하기)<br>\n",
        "\n",
        "Array reshaping은 배열안의 데이터는 그대로 두고 모양을 바꿔 해석을 다르게 하는 것입니다.\n",
        "\n",
        "예를 들어 (4,) 모양의 1차원 배열 [1, 2, 3, 4]는 (4, 1) 모양의 2차원 배열 [[1], [2], [3], [4]], <br> 또는 (2, 2) 모양의 2차원 배열 [[1, 2], [3, 4]] 및 (1, 4) 모양의 2차원 배열 [[1, 2, 3, 4]]로 형태를 바꿔 해석할 수도 있습니다."
      ]
    },
    {
      "cell_type": "markdown",
      "metadata": {
        "id": "O4a8i5qLlwgq"
      },
      "source": [
        "### 동일 차원으로 reshaping"
      ]
    },
    {
      "cell_type": "code",
      "execution_count": 42,
      "metadata": {
        "colab": {
          "base_uri": "https://localhost:8080/"
        },
        "id": "KMz5d2gOl0Eb",
        "outputId": "b5d8e978-1337-40d8-df20-979784ef441d"
      },
      "outputs": [
        {
          "name": "stdout",
          "output_type": "stream",
          "text": [
            "원래 모양: (3, 4, 5)\n"
          ]
        }
      ],
      "source": [
        "s = np.random.rand(3, 4, 5)\n",
        "print(f\"원래 모양: {s.shape}\")"
      ]
    },
    {
      "cell_type": "markdown",
      "metadata": {
        "id": "s1mp1lJDoaeK"
      },
      "source": [
        "***TODO: s의 전체 원소 개수 구하기***\n",
        "* Q: 어떻게 계산할 수 있을까요?\n",
        "* A: 3x4x5"
      ]
    },
    {
      "cell_type": "code",
      "execution_count": 43,
      "metadata": {
        "colab": {
          "base_uri": "https://localhost:8080/"
        },
        "id": "11CYWGKMl3RM",
        "outputId": "31f1a33d-09cf-4b66-dd0c-246d2cfe0386"
      },
      "outputs": [
        {
          "data": {
            "text/plain": [
              "60"
            ]
          },
          "execution_count": 43,
          "metadata": {},
          "output_type": "execute_result"
        }
      ],
      "source": [
        "s.size"
      ]
    },
    {
      "cell_type": "code",
      "execution_count": 44,
      "metadata": {
        "colab": {
          "base_uri": "https://localhost:8080/"
        },
        "id": "dICkdQ4Bl55_",
        "outputId": "31c02a5b-7997-46ba-b4d9-59a2c7e72032"
      },
      "outputs": [
        {
          "name": "stdout",
          "output_type": "stream",
          "text": [
            "[[[0.17999355 0.51121561 0.93234785 0.49361973 0.40843001]\n",
            "  [0.51635041 0.83096943 0.88819646 0.64803026 0.72626995]\n",
            "  [0.90300073 0.12806434 0.45606986 0.75344171 0.68342551]\n",
            "  [0.61881172 0.65081256 0.59742903 0.23725997 0.35941103]]\n",
            "\n",
            " [[0.95657196 0.40672013 0.26140057 0.96571747 0.66341768]\n",
            "  [0.51623449 0.99468697 0.73297764 0.33419532 0.4428833 ]\n",
            "  [0.96605786 0.89174303 0.43889062 0.42984987 0.41095418]\n",
            "  [0.36701972 0.81852886 0.58303167 0.44603061 0.70061311]]\n",
            "\n",
            " [[0.95558444 0.76076263 0.01883646 0.97794153 0.84530883]\n",
            "  [0.84050618 0.96355429 0.2265942  0.90667866 0.70762831]\n",
            "  [0.59359504 0.22984864 0.22749144 0.447599   0.49709902]\n",
            "  [0.90610332 0.10752447 0.33163226 0.91148006 0.36911634]]]\n"
          ]
        }
      ],
      "source": [
        "# s 내용 확인하기\n",
        "print(s)"
      ]
    },
    {
      "cell_type": "code",
      "execution_count": 45,
      "metadata": {
        "colab": {
          "base_uri": "https://localhost:8080/"
        },
        "id": "rEp81Dn3l9uP",
        "outputId": "d453b4c5-a09c-4227-879a-3216644fa509"
      },
      "outputs": [
        {
          "name": "stdout",
          "output_type": "stream",
          "text": [
            "s1의 모양: (2, 6, 5)\n"
          ]
        }
      ],
      "source": [
        "# TODO: s를 (2, 6, 5)로 reshape하여 s1에 저장하기\n",
        "s1 = s.reshape(2,6 ,5 )\n",
        "print(f\"s1의 모양: {s1.shape}\")"
      ]
    },
    {
      "cell_type": "code",
      "execution_count": 46,
      "metadata": {
        "colab": {
          "base_uri": "https://localhost:8080/"
        },
        "id": "XUAejbTjmCkQ",
        "outputId": "a3701bbe-8d22-400b-b331-b1132509e7c1"
      },
      "outputs": [
        {
          "name": "stdout",
          "output_type": "stream",
          "text": [
            "[[[0.17999355 0.51121561 0.93234785 0.49361973 0.40843001]\n",
            "  [0.51635041 0.83096943 0.88819646 0.64803026 0.72626995]\n",
            "  [0.90300073 0.12806434 0.45606986 0.75344171 0.68342551]\n",
            "  [0.61881172 0.65081256 0.59742903 0.23725997 0.35941103]\n",
            "  [0.95657196 0.40672013 0.26140057 0.96571747 0.66341768]\n",
            "  [0.51623449 0.99468697 0.73297764 0.33419532 0.4428833 ]]\n",
            "\n",
            " [[0.96605786 0.89174303 0.43889062 0.42984987 0.41095418]\n",
            "  [0.36701972 0.81852886 0.58303167 0.44603061 0.70061311]\n",
            "  [0.95558444 0.76076263 0.01883646 0.97794153 0.84530883]\n",
            "  [0.84050618 0.96355429 0.2265942  0.90667866 0.70762831]\n",
            "  [0.59359504 0.22984864 0.22749144 0.447599   0.49709902]\n",
            "  [0.90610332 0.10752447 0.33163226 0.91148006 0.36911634]]]\n"
          ]
        }
      ],
      "source": [
        "# s와 s1의 각 원소값과 위치는 동일한 것을 확인해보세요.\n",
        "print(s1)"
      ]
    },
    {
      "cell_type": "markdown",
      "metadata": {
        "id": "2h9NzVWqmFIJ"
      },
      "source": [
        "### 다른 차원으로 reshaping"
      ]
    },
    {
      "cell_type": "code",
      "execution_count": 47,
      "metadata": {
        "id": "kd7rm9F8mHjg"
      },
      "outputs": [],
      "source": [
        "# TODO: 0부터 119까지 120개의 정수로 이루어진 1차원 배열을 간단하게 만들어보세요.\n",
        "r = np.arange(0,120)"
      ]
    },
    {
      "cell_type": "code",
      "execution_count": 48,
      "metadata": {
        "colab": {
          "base_uri": "https://localhost:8080/"
        },
        "id": "JxsZO9FlmJab",
        "outputId": "500b9953-8e56-4597-87a6-36b1c985073d"
      },
      "outputs": [
        {
          "name": "stdout",
          "output_type": "stream",
          "text": [
            "원래 모양: (120,)\n"
          ]
        }
      ],
      "source": [
        "print(f\"원래 모양: {r.shape}\")"
      ]
    },
    {
      "cell_type": "code",
      "execution_count": 49,
      "metadata": {
        "colab": {
          "base_uri": "https://localhost:8080/"
        },
        "id": "yXX5yQiSmPLi",
        "outputId": "d4697447-6f68-4b06-f8f6-6f6cb30172cf"
      },
      "outputs": [
        {
          "name": "stdout",
          "output_type": "stream",
          "text": [
            "r1의 모양: (3, 4, 10)\n"
          ]
        }
      ],
      "source": [
        "# TODO: (120,) -> (3, 4, 10)\n",
        "# 원소개수는 120개로 동일합니다.\n",
        "r1 = r.reshape(3,4,10)\n",
        "print(f\"r1의 모양: {r1.shape}\")"
      ]
    },
    {
      "cell_type": "code",
      "execution_count": 50,
      "metadata": {
        "colab": {
          "base_uri": "https://localhost:8080/"
        },
        "id": "qTEazsfjmWBW",
        "outputId": "1ae3a6cf-90aa-4c53-e935-12e13c066fa9"
      },
      "outputs": [
        {
          "name": "stdout",
          "output_type": "stream",
          "text": [
            "[  0   1   2   3   4   5   6   7   8   9  10  11  12  13  14  15  16  17\n",
            "  18  19  20  21  22  23  24  25  26  27  28  29  30  31  32  33  34  35\n",
            "  36  37  38  39  40  41  42  43  44  45  46  47  48  49  50  51  52  53\n",
            "  54  55  56  57  58  59  60  61  62  63  64  65  66  67  68  69  70  71\n",
            "  72  73  74  75  76  77  78  79  80  81  82  83  84  85  86  87  88  89\n",
            "  90  91  92  93  94  95  96  97  98  99 100 101 102 103 104 105 106 107\n",
            " 108 109 110 111 112 113 114 115 116 117 118 119]\n",
            "[[[  0   1   2   3   4   5   6   7   8   9]\n",
            "  [ 10  11  12  13  14  15  16  17  18  19]\n",
            "  [ 20  21  22  23  24  25  26  27  28  29]\n",
            "  [ 30  31  32  33  34  35  36  37  38  39]]\n",
            "\n",
            " [[ 40  41  42  43  44  45  46  47  48  49]\n",
            "  [ 50  51  52  53  54  55  56  57  58  59]\n",
            "  [ 60  61  62  63  64  65  66  67  68  69]\n",
            "  [ 70  71  72  73  74  75  76  77  78  79]]\n",
            "\n",
            " [[ 80  81  82  83  84  85  86  87  88  89]\n",
            "  [ 90  91  92  93  94  95  96  97  98  99]\n",
            "  [100 101 102 103 104 105 106 107 108 109]\n",
            "  [110 111 112 113 114 115 116 117 118 119]]]\n"
          ]
        }
      ],
      "source": [
        "# r과 r1을 비교해보세요.\n",
        "print(r)\n",
        "print(r1)"
      ]
    },
    {
      "cell_type": "code",
      "execution_count": 51,
      "metadata": {
        "colab": {
          "base_uri": "https://localhost:8080/"
        },
        "id": "uGUy-vPkmZOU",
        "outputId": "0722f46f-e465-4164-cf15-7fb8fc0f9d83"
      },
      "outputs": [
        {
          "name": "stdout",
          "output_type": "stream",
          "text": [
            "r2의 모양: (6, 20)\n"
          ]
        }
      ],
      "source": [
        "# TODO: r1을 reshape하여 r2에 저장하세요.\n",
        "# (3, 4, 10) -> (6, 20)\n",
        "r2 = r1.reshape(6,20)\n",
        "print(f\"r2의 모양: {r2.shape}\")"
      ]
    },
    {
      "cell_type": "code",
      "execution_count": 52,
      "metadata": {
        "colab": {
          "base_uri": "https://localhost:8080/"
        },
        "id": "U21IEB5Vmb--",
        "outputId": "8a8868f3-9a13-4eed-90f6-3012a040e843"
      },
      "outputs": [
        {
          "name": "stdout",
          "output_type": "stream",
          "text": [
            "[[[  0   1   2   3   4   5   6   7   8   9]\n",
            "  [ 10  11  12  13  14  15  16  17  18  19]\n",
            "  [ 20  21  22  23  24  25  26  27  28  29]\n",
            "  [ 30  31  32  33  34  35  36  37  38  39]]\n",
            "\n",
            " [[ 40  41  42  43  44  45  46  47  48  49]\n",
            "  [ 50  51  52  53  54  55  56  57  58  59]\n",
            "  [ 60  61  62  63  64  65  66  67  68  69]\n",
            "  [ 70  71  72  73  74  75  76  77  78  79]]\n",
            "\n",
            " [[ 80  81  82  83  84  85  86  87  88  89]\n",
            "  [ 90  91  92  93  94  95  96  97  98  99]\n",
            "  [100 101 102 103 104 105 106 107 108 109]\n",
            "  [110 111 112 113 114 115 116 117 118 119]]]\n",
            "[[  0   1   2   3   4   5   6   7   8   9  10  11  12  13  14  15  16  17\n",
            "   18  19]\n",
            " [ 20  21  22  23  24  25  26  27  28  29  30  31  32  33  34  35  36  37\n",
            "   38  39]\n",
            " [ 40  41  42  43  44  45  46  47  48  49  50  51  52  53  54  55  56  57\n",
            "   58  59]\n",
            " [ 60  61  62  63  64  65  66  67  68  69  70  71  72  73  74  75  76  77\n",
            "   78  79]\n",
            " [ 80  81  82  83  84  85  86  87  88  89  90  91  92  93  94  95  96  97\n",
            "   98  99]\n",
            " [100 101 102 103 104 105 106 107 108 109 110 111 112 113 114 115 116 117\n",
            "  118 119]]\n"
          ]
        }
      ],
      "source": [
        "# r2와 r1, r을 비교해보세요.\n",
        "print(r1)\n",
        "print(r2)"
      ]
    },
    {
      "cell_type": "markdown",
      "metadata": {
        "id": "RpaG2yDgm4XH"
      },
      "source": [
        "## 배열 펼치기 (Flattening)\n",
        "배열 펼치기는 다차원 배열을 일차원으로 만들어줍니다.<br>\n",
        "일반적인 다층 퍼셉트론 인공 신경망은 일차원 배열을 입력으로 받기 때문에<br> MNIST 데이터셋을 사용하면 28 x 28 모양의 이차원 배열을 길이 784의 일차원 배열로 만들어 사용합니다."
      ]
    },
    {
      "cell_type": "code",
      "execution_count": 53,
      "metadata": {
        "colab": {
          "base_uri": "https://localhost:8080/"
        },
        "id": "-EcIxVhPnf-1",
        "outputId": "d4729aca-762a-4083-c35b-bcabea0eaf16"
      },
      "outputs": [
        {
          "data": {
            "text/plain": [
              "array([[0.70513431, 0.14356709, 0.28945293, 0.61497921, 0.42376015,\n",
              "        0.00314452],\n",
              "       [0.36760621, 0.76038113, 0.52135353, 0.06441742, 0.77714865,\n",
              "        0.12138275],\n",
              "       [0.19489493, 0.72290735, 0.20955088, 0.23762168, 0.20583207,\n",
              "        0.42492134],\n",
              "       [0.17902291, 0.35507158, 0.01207323, 0.57231921, 0.43901214,\n",
              "        0.20368527],\n",
              "       [0.56150639, 0.77753036, 0.0714515 , 0.44118067, 0.91569067,\n",
              "        0.30389071]])"
            ]
          },
          "execution_count": 53,
          "metadata": {},
          "output_type": "execute_result"
        }
      ],
      "source": [
        "k = np.random.rand(5, 6)\n",
        "k"
      ]
    },
    {
      "cell_type": "markdown",
      "metadata": {
        "id": "vo3DsO7Znk7D"
      },
      "source": [
        "### 기본 순서대로 펼치기"
      ]
    },
    {
      "cell_type": "code",
      "execution_count": 54,
      "metadata": {
        "colab": {
          "base_uri": "https://localhost:8080/"
        },
        "id": "RasJm2OgniU1",
        "outputId": "2587ca34-ffdc-42a6-84e8-3c8df06ce6d7"
      },
      "outputs": [
        {
          "data": {
            "text/plain": [
              "array([0.70513431, 0.14356709, 0.28945293, 0.61497921, 0.42376015,\n",
              "       0.00314452, 0.36760621, 0.76038113, 0.52135353, 0.06441742,\n",
              "       0.77714865, 0.12138275, 0.19489493, 0.72290735, 0.20955088,\n",
              "       0.23762168, 0.20583207, 0.42492134, 0.17902291, 0.35507158,\n",
              "       0.01207323, 0.57231921, 0.43901214, 0.20368527, 0.56150639,\n",
              "       0.77753036, 0.0714515 , 0.44118067, 0.91569067, 0.30389071])"
            ]
          },
          "execution_count": 54,
          "metadata": {},
          "output_type": "execute_result"
        }
      ],
      "source": [
        "# k와 k1을 비교해보세요.\n",
        "k1 = k.flatten() \n",
        "k1"
      ]
    },
    {
      "cell_type": "code",
      "execution_count": 55,
      "metadata": {
        "colab": {
          "base_uri": "https://localhost:8080/"
        },
        "id": "0Qp88_a7npWg",
        "outputId": "3e063d55-0b80-4cd5-d86b-a75ae4522e33"
      },
      "outputs": [
        {
          "data": {
            "text/plain": [
              "(30,)"
            ]
          },
          "execution_count": 55,
          "metadata": {},
          "output_type": "execute_result"
        }
      ],
      "source": [
        "k1.shape"
      ]
    },
    {
      "cell_type": "markdown",
      "metadata": {
        "id": "xm8EHjaIn1hZ"
      },
      "source": [
        "## 배열 이어 붙이기\n",
        "https://numpy.org/doc/stable/reference/generated/numpy.concatenate.html"
      ]
    },
    {
      "cell_type": "code",
      "execution_count": 56,
      "metadata": {
        "colab": {
          "base_uri": "https://localhost:8080/"
        },
        "id": "hRMcI_MvoH8I",
        "outputId": "5b1d0f66-2537-4dcb-d417-541083bd7adf"
      },
      "outputs": [
        {
          "name": "stdout",
          "output_type": "stream",
          "text": [
            "Array 1 is \n",
            " [[1 2]\n",
            " [3 4]]  with dimensions  (2, 2) \n",
            "\n",
            "Array 2 is \n",
            " [[5 6]]  with dimensions  (1, 2) \n",
            "\n"
          ]
        }
      ],
      "source": [
        "# 2차원 배열인 array1과 array2 생성\n",
        "array1 = np.array([[1, 2], [3, 4]])\n",
        "print(\"Array 1 is \\n\", array1, \" with dimensions \", array1.shape, \"\\n\")\n",
        "\n",
        "array2 = np.array([[5, 6]])\n",
        "print(\"Array 2 is \\n\", array2, \" with dimensions \", array2.shape, \"\\n\")"
      ]
    },
    {
      "cell_type": "markdown",
      "metadata": {
        "id": "Fd0IA5TboYWU"
      },
      "source": [
        "배열을 이어붙일 때에는 기준이 되는 축 이외에 모양이 동일해야 합니다.<br>\n",
        "1. (2, 2)와 (1, 2) 이어 붙일 때 0번 축으로 이어붙이면 (3, 2) 배열 탄생\n",
        "2. (2, 2)와 (1, 2) 이어 붙일 때 1번 축으로 이어붙이면 0번 축의 모양이 서로 다르므로 이어붙이기 실패"
      ]
    },
    {
      "cell_type": "code",
      "execution_count": 57,
      "metadata": {
        "colab": {
          "base_uri": "https://localhost:8080/"
        },
        "id": "2cAvPXwjo1c4",
        "outputId": "41241636-902f-440b-886f-571396c0c6a9"
      },
      "outputs": [
        {
          "name": "stdout",
          "output_type": "stream",
          "text": [
            "Concatenated array 1 along axis 0 (row-wise for 2-d arrays) is \n",
            " [[1 2]\n",
            " [3 4]\n",
            " [5 6]] with dimensions  (3, 2) \n",
            "\n"
          ]
        }
      ],
      "source": [
        "# TODO: 0번 축을 기준으로 array1과 array2를 이어붙이세요.\n",
        "concatenated_array1 = np.concatenate((array1,array2),axis=0)\n",
        "print(\"Concatenated array 1 along axis 0 (row-wise for 2-d arrays) is \\n\", concatenated_array1, \"with dimensions \", concatenated_array1.shape, '\\n')"
      ]
    },
    {
      "cell_type": "code",
      "execution_count": 59,
      "metadata": {
        "colab": {
          "base_uri": "https://localhost:8080/",
          "height": 354
        },
        "id": "aOCDXVggrJHk",
        "outputId": "561c8f64-145b-4764-f1ab-c894284f623b"
      },
      "outputs": [
        {
          "ename": "ValueError",
          "evalue": "ignored",
          "output_type": "error",
          "traceback": [
            "\u001b[0;31m---------------------------------------------------------------------------\u001b[0m",
            "\u001b[0;31mValueError\u001b[0m                                Traceback (most recent call last)",
            "\u001b[0;32m<ipython-input-59-e8e756e74126>\u001b[0m in \u001b[0;36m<module>\u001b[0;34m\u001b[0m\n\u001b[1;32m      1\u001b[0m \u001b[0;31m# TODO: 1번 축을 기준으로 array1과 array2를 이어붙이세요. (실패합니다. 에러 메시지를 확인하세요.)\u001b[0m\u001b[0;34m\u001b[0m\u001b[0;34m\u001b[0m\u001b[0;34m\u001b[0m\u001b[0m\n\u001b[0;32m----> 2\u001b[0;31m \u001b[0mconcatenated_array2\u001b[0m \u001b[0;34m=\u001b[0m \u001b[0mnp\u001b[0m\u001b[0;34m.\u001b[0m\u001b[0mconcatenate\u001b[0m\u001b[0;34m(\u001b[0m\u001b[0;34m(\u001b[0m\u001b[0marray1\u001b[0m\u001b[0;34m,\u001b[0m\u001b[0marray2\u001b[0m\u001b[0;34m)\u001b[0m\u001b[0;34m,\u001b[0m\u001b[0maxis\u001b[0m\u001b[0;34m=\u001b[0m\u001b[0;36m1\u001b[0m\u001b[0;34m)\u001b[0m\u001b[0;34m\u001b[0m\u001b[0;34m\u001b[0m\u001b[0m\n\u001b[0m\u001b[1;32m      3\u001b[0m \u001b[0mprint\u001b[0m\u001b[0;34m(\u001b[0m\u001b[0;34m\"Concatenated array 2 along axis 0 (column-wise for 2-d arrays) is \\n\"\u001b[0m\u001b[0;34m,\u001b[0m \u001b[0mconcatenated_array2\u001b[0m\u001b[0;34m,\u001b[0m \u001b[0;34m\"with dimensions \"\u001b[0m\u001b[0;34m,\u001b[0m \u001b[0mconcatenated_array2\u001b[0m\u001b[0;34m.\u001b[0m\u001b[0mshape\u001b[0m\u001b[0;34m)\u001b[0m\u001b[0;34m\u001b[0m\u001b[0;34m\u001b[0m\u001b[0m\n\u001b[1;32m      4\u001b[0m \u001b[0;31m#축의 개수가 다르기 때문에 나타나는 오류\u001b[0m\u001b[0;34m\u001b[0m\u001b[0;34m\u001b[0m\u001b[0;34m\u001b[0m\u001b[0m\n",
            "\u001b[0;32m/usr/local/lib/python3.8/dist-packages/numpy/core/overrides.py\u001b[0m in \u001b[0;36mconcatenate\u001b[0;34m(*args, **kwargs)\u001b[0m\n",
            "\u001b[0;31mValueError\u001b[0m: all the input array dimensions for the concatenation axis must match exactly, but along dimension 0, the array at index 0 has size 2 and the array at index 1 has size 1"
          ]
        }
      ],
      "source": [
        "# TODO: 1번 축을 기준으로 array1과 array2를 이어붙이세요. (실패합니다. 에러 메시지를 확인하세요.)\n",
        "concatenated_array2 = np.concatenate((array1,array2),axis=1)\n",
        "print(\"Concatenated array 2 along axis 0 (column-wise for 2-d arrays) is \\n\", concatenated_array2, \"with dimensions \", concatenated_array2.shape)\n",
        "#축의 개수가 다르기 때문에 나타나는 오류"
      ]
    },
    {
      "cell_type": "code",
      "execution_count": 60,
      "metadata": {
        "colab": {
          "base_uri": "https://localhost:8080/"
        },
        "id": "7q245PFzpcru",
        "outputId": "0d92b136-de89-40fc-bdd1-5c248b520883"
      },
      "outputs": [
        {
          "name": "stdout",
          "output_type": "stream",
          "text": [
            "Array 1 is \n",
            " [[[2 1 0 0 1]\n",
            "  [1 1 2 2 2]\n",
            "  [1 0 1 2 0]\n",
            "  [0 0 0 1 0]]\n",
            "\n",
            " [[2 0 2 2 0]\n",
            "  [2 1 0 1 2]\n",
            "  [0 0 0 2 0]\n",
            "  [2 2 2 1 1]]\n",
            "\n",
            " [[1 2 2 2 1]\n",
            "  [2 2 0 2 2]\n",
            "  [1 1 0 1 0]\n",
            "  [1 2 0 0 2]]]  with dimensions  (3, 4, 5) \n",
            "\n"
          ]
        }
      ],
      "source": [
        "# TODO: (3, 4, 5) 형태에 0 이상 3 미만의 무작위 정수로 채워진 배열을 만드세요.\n",
        "# https://numpy.org/doc/stable/reference/random/generated/numpy.random.randint.html\n",
        "array1 = np.array(np.random.randint(0,3,(3,4,5)))\n",
        "print(\"Array 1 is \\n\", array1, \" with dimensions \", array1.shape, \"\\n\")"
      ]
    },
    {
      "cell_type": "code",
      "execution_count": 61,
      "metadata": {
        "colab": {
          "base_uri": "https://localhost:8080/"
        },
        "id": "m5iEk018rkG4",
        "outputId": "12fc9dea-dc9f-49a9-c1a5-663ac5d23fb7"
      },
      "outputs": [
        {
          "name": "stdout",
          "output_type": "stream",
          "text": [
            "Array 2 is \n",
            " [[[0 3 3 3 3]\n",
            "  [1 0 3 1 3]\n",
            "  [3 2 0 0 0]\n",
            "  [0 1 0 2 3]]\n",
            "\n",
            " [[1 3 3 2 0]\n",
            "  [1 0 0 2 2]\n",
            "  [3 1 2 0 1]\n",
            "  [3 2 0 3 2]]\n",
            "\n",
            " [[3 1 0 2 2]\n",
            "  [3 3 1 3 3]\n",
            "  [2 1 0 3 3]\n",
            "  [1 0 2 0 0]]]  with dimensions  (3, 4, 5) \n",
            "\n"
          ]
        }
      ],
      "source": [
        "# TODO: (3, 4, 5) 형태에 0 이상 4 미만의 무작위 정수로 채워진 배열을 만드세요.\n",
        "array2 = np.array(np.random.randint(0,4,(3,4,5)))\n",
        "print(\"Array 2 is \\n\", array2, \" with dimensions \", array2.shape, \"\\n\")"
      ]
    },
    {
      "cell_type": "markdown",
      "metadata": {
        "id": "EaUNbC5sr8gy"
      },
      "source": [
        "***TODO: 0번 축을을 기준으로 이어붙이기***\n",
        "* Q: 어떤 모양일까요? (코딩으로 결과 확인 전에 작성해보세요.)\n",
        "* A: (6,4,5)"
      ]
    },
    {
      "cell_type": "code",
      "execution_count": 62,
      "metadata": {
        "colab": {
          "base_uri": "https://localhost:8080/"
        },
        "id": "kapJeOHXqgGW",
        "outputId": "d1844cbd-9797-4dae-aa43-52f419c9820a"
      },
      "outputs": [
        {
          "name": "stdout",
          "output_type": "stream",
          "text": [
            "Concatenated array 1 is \n",
            " [[[2 1 0 0 1]\n",
            "  [1 1 2 2 2]\n",
            "  [1 0 1 2 0]\n",
            "  [0 0 0 1 0]]\n",
            "\n",
            " [[2 0 2 2 0]\n",
            "  [2 1 0 1 2]\n",
            "  [0 0 0 2 0]\n",
            "  [2 2 2 1 1]]\n",
            "\n",
            " [[1 2 2 2 1]\n",
            "  [2 2 0 2 2]\n",
            "  [1 1 0 1 0]\n",
            "  [1 2 0 0 2]]\n",
            "\n",
            " [[0 3 3 3 3]\n",
            "  [1 0 3 1 3]\n",
            "  [3 2 0 0 0]\n",
            "  [0 1 0 2 3]]\n",
            "\n",
            " [[1 3 3 2 0]\n",
            "  [1 0 0 2 2]\n",
            "  [3 1 2 0 1]\n",
            "  [3 2 0 3 2]]\n",
            "\n",
            " [[3 1 0 2 2]\n",
            "  [3 3 1 3 3]\n",
            "  [2 1 0 3 3]\n",
            "  [1 0 2 0 0]]] \n",
            "\n",
            " and the dimensions of the concatenated array 1 are: \n",
            " (6, 4, 5)\n"
          ]
        }
      ],
      "source": [
        "# TODO: 0번 축을 기준으로 이어붙이기\n",
        "concatenated_array1 = np.concatenate((array1,array2),axis=0)\n",
        "print(\"Concatenated array 1 is \\n\", concatenated_array1, \"\\n\\n\", \"and the dimensions of the concatenated array 1 are: \\n\", concatenated_array1.shape)"
      ]
    },
    {
      "cell_type": "markdown",
      "metadata": {
        "id": "iZNFj2LnsQ6U"
      },
      "source": [
        "***TODO: 1번 축을 기준으로 이어붙이기***\n",
        "* Q: 어떤 모양일까요? (코딩으로 결과 확인 전에 작성해보세요.)\n",
        "* A: (3,8,5)"
      ]
    },
    {
      "cell_type": "code",
      "execution_count": 63,
      "metadata": {
        "colab": {
          "base_uri": "https://localhost:8080/"
        },
        "id": "iFZden1jsUGs",
        "outputId": "0c2f2d7c-0f44-4a96-bd68-929c0facf63f"
      },
      "outputs": [
        {
          "name": "stdout",
          "output_type": "stream",
          "text": [
            "Concatenated array 2 is \n",
            " [[[2 1 0 0 1]\n",
            "  [1 1 2 2 2]\n",
            "  [1 0 1 2 0]\n",
            "  [0 0 0 1 0]\n",
            "  [0 3 3 3 3]\n",
            "  [1 0 3 1 3]\n",
            "  [3 2 0 0 0]\n",
            "  [0 1 0 2 3]]\n",
            "\n",
            " [[2 0 2 2 0]\n",
            "  [2 1 0 1 2]\n",
            "  [0 0 0 2 0]\n",
            "  [2 2 2 1 1]\n",
            "  [1 3 3 2 0]\n",
            "  [1 0 0 2 2]\n",
            "  [3 1 2 0 1]\n",
            "  [3 2 0 3 2]]\n",
            "\n",
            " [[1 2 2 2 1]\n",
            "  [2 2 0 2 2]\n",
            "  [1 1 0 1 0]\n",
            "  [1 2 0 0 2]\n",
            "  [3 1 0 2 2]\n",
            "  [3 3 1 3 3]\n",
            "  [2 1 0 3 3]\n",
            "  [1 0 2 0 0]]] \n",
            "\n",
            " and the dimensions of the concatenated array 2 are: \n",
            " (3, 8, 5)\n"
          ]
        }
      ],
      "source": [
        "# TODO: 1번 축을 기준으로 이어붙이기\n",
        "concatenated_array2 = np.concatenate((array1,array2),axis=1)\n",
        "print(\"Concatenated array 2 is \\n\", concatenated_array2, \"\\n\\n\", \"and the dimensions of the concatenated array 2 are: \\n\", concatenated_array2.shape)"
      ]
    },
    {
      "cell_type": "markdown",
      "metadata": {
        "id": "Kb_mSmntsXJv"
      },
      "source": [
        "***TODO: 2번 축을 기준으로 이어붙이기***\n",
        "* Q: 어떤 모양일까요? (코딩으로 결과 확인 전에 작성해보세요.)\n",
        "* A: (3,4,10)"
      ]
    },
    {
      "cell_type": "code",
      "execution_count": 64,
      "metadata": {
        "colab": {
          "base_uri": "https://localhost:8080/"
        },
        "id": "1SladNrFsbAq",
        "outputId": "bed8cc9b-e9a8-4441-8c0f-f8c9e2f1f92d"
      },
      "outputs": [
        {
          "name": "stdout",
          "output_type": "stream",
          "text": [
            "Concatenated array 3 is \n",
            " [[[2 1 0 0 1 0 3 3 3 3]\n",
            "  [1 1 2 2 2 1 0 3 1 3]\n",
            "  [1 0 1 2 0 3 2 0 0 0]\n",
            "  [0 0 0 1 0 0 1 0 2 3]]\n",
            "\n",
            " [[2 0 2 2 0 1 3 3 2 0]\n",
            "  [2 1 0 1 2 1 0 0 2 2]\n",
            "  [0 0 0 2 0 3 1 2 0 1]\n",
            "  [2 2 2 1 1 3 2 0 3 2]]\n",
            "\n",
            " [[1 2 2 2 1 3 1 0 2 2]\n",
            "  [2 2 0 2 2 3 3 1 3 3]\n",
            "  [1 1 0 1 0 2 1 0 3 3]\n",
            "  [1 2 0 0 2 1 0 2 0 0]]] \n",
            "\n",
            " and the dimensions of the concatenated array 3 are: \n",
            " (3, 4, 10)\n"
          ]
        }
      ],
      "source": [
        "# TODO: 2번 축을 기준으로 이어붙이기\n",
        "concatenated_array3 = np.concatenate((array1,array2),axis=2)\n",
        "print(\"Concatenated array 3 is \\n\", concatenated_array3, \"\\n\\n\", \"and the dimensions of the concatenated array 3 are: \\n\", concatenated_array3.shape)"
      ]
    },
    {
      "cell_type": "code",
      "execution_count": 64,
      "metadata": {
        "id": "Sff8foBWTCe6"
      },
      "outputs": [],
      "source": []
    }
  ],
  "metadata": {
    "colab": {
      "provenance": []
    },
    "kernelspec": {
      "display_name": "Python 3",
      "name": "python3"
    },
    "language_info": {
      "name": "python"
    }
  },
  "nbformat": 4,
  "nbformat_minor": 0
}
