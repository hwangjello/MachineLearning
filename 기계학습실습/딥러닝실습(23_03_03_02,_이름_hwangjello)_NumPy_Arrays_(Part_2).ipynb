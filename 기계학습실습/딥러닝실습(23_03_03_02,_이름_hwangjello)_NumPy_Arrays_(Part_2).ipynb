{
  "nbformat": 4,
  "nbformat_minor": 0,
  "metadata": {
    "colab": {
      "provenance": []
    },
    "kernelspec": {
      "name": "python3",
      "display_name": "Python 3"
    },
    "language_info": {
      "name": "python"
    }
  },
  "cells": [
    {
      "cell_type": "markdown",
      "source": [
        "# NumPy Arrays - Part 2<br>\n",
        "NumPy - 대규모의 다차원 배열을 쉽게 처리할 때 사용하는 파이썬 라이브러리<br>\n",
        "\n",
        "by uramoon@kw.ac.kr<br>\n",
        "원본 출처: Introduction to Deep Learning at Carnegie Mellon University (https://deeplearning.cs.cmu.edu/S22/index.html)"
      ],
      "metadata": {
        "id": "f7Phz-Tu8Jy4"
      }
    },
    {
      "cell_type": "code",
      "execution_count": 25,
      "metadata": {
        "id": "2cEyUUzo76v1"
      },
      "outputs": [],
      "source": [
        "# Import the NumPy \n",
        "import numpy as np"
      ]
    },
    {
      "cell_type": "markdown",
      "source": [
        "## 0. 다차원 배열의 이해"
      ],
      "metadata": {
        "id": "DOFbU78k9uXU"
      }
    },
    {
      "cell_type": "code",
      "source": [
        "arr = np.array([1, 2, 3, 4])\n",
        "\n",
        "# 1차원 배열\n",
        "print(arr)"
      ],
      "metadata": {
        "id": "O9_xErVT9Oho",
        "colab": {
          "base_uri": "https://localhost:8080/"
        },
        "outputId": "a300c238-248b-46a4-b5d5-0673151e93ba"
      },
      "execution_count": 26,
      "outputs": [
        {
          "output_type": "stream",
          "name": "stdout",
          "text": [
            "[1 2 3 4]\n"
          ]
        }
      ]
    },
    {
      "cell_type": "code",
      "source": [
        "# 2차원 배열로 해석하기\n",
        "print(arr.reshape(4, 1))\n",
        "print(arr.reshape(2, 2))\n",
        "print(arr.reshape(1, 4))"
      ],
      "metadata": {
        "id": "UMsbm41j42OT",
        "colab": {
          "base_uri": "https://localhost:8080/"
        },
        "outputId": "57abf835-55db-4794-d9a3-2a8bac67bd25"
      },
      "execution_count": 27,
      "outputs": [
        {
          "output_type": "stream",
          "name": "stdout",
          "text": [
            "[[1]\n",
            " [2]\n",
            " [3]\n",
            " [4]]\n",
            "[[1 2]\n",
            " [3 4]]\n",
            "[[1 2 3 4]]\n"
          ]
        }
      ]
    },
    {
      "cell_type": "markdown",
      "source": [
        "***TODO: 어떻게 해석할 수 있을까요?***\n",
        "1. arr.reshape(4, 1): 길이 1인 배열이 네 개 있음. (4 by 1 행렬, 행:4개 열:1개)\n",
        "2. arr.reshape(2, 2): 길이 2인 배열이 두 개 있음. (2 by 2 행렬, 행:2개 열:2개)\n",
        "3. arr.reshape(1, 4): 길이 4인 배열이 한 개 있음. (1 by 4 행렬, 행:1개 열:4개)"
      ],
      "metadata": {
        "id": "UBIwi96j5IJ1"
      }
    },
    {
      "cell_type": "markdown",
      "source": [
        "## 1. 배열 초기화\n",
        "\n"
      ],
      "metadata": {
        "id": "oEBtH42k8cDM"
      }
    },
    {
      "cell_type": "markdown",
      "source": [
        "### a. 비어 있는 (초기화 안된) / 0으로 채워진 / 1로 채워진 / 특정 값으로 채워진 배열 만들기\n",
        "1. numpy.empty (https://numpy.org/doc/stable/reference/generated/numpy.empty.html)\n",
        "2. numpy.zeros (https://numpy.org/doc/stable/reference/generated/numpy.zeros.html#numpy.zeros)\n",
        "3. numpy.ones (https://numpy.org/doc/stable/reference/generated/numpy.ones.html#numpy.ones)\n",
        "4. numpy.full (https://numpy.org/doc/stable/reference/generated/numpy.full.html#numpy.full)"
      ],
      "metadata": {
        "id": "1xv3d8__-YVP"
      }
    },
    {
      "cell_type": "code",
      "source": [
        "# 비어있는 2 x 2 배열 만들기\n",
        "empty_arr = np.empty((2, 2))\n",
        "print(empty_arr)"
      ],
      "metadata": {
        "id": "f3dgMQU-8nR5",
        "colab": {
          "base_uri": "https://localhost:8080/"
        },
        "outputId": "01b37d43-a88c-43db-af99-32583209b149"
      },
      "execution_count": 28,
      "outputs": [
        {
          "output_type": "stream",
          "name": "stdout",
          "text": [
            "[[10. 10.]\n",
            " [10. 10.]]\n"
          ]
        }
      ]
    },
    {
      "cell_type": "markdown",
      "source": [
        "***TODO: numpy.empty의 장점과 단점은 무엇일까요?***\n",
        "* 장점: 초기화를 하지 않기 때문에 numpy.zeros 보다 성능이 조금 더 개선된다.\n",
        "* 단점: 메모리 초기화를 하지 않기 때문에 예상하지 못한 뜬금없는 값들이 들어가 있다."
      ],
      "metadata": {
        "id": "kp2jVZWS6dge"
      }
    },
    {
      "cell_type": "code",
      "source": [
        "# TODO: 모두 0으로 채워진 2 x 3 배열 만들기\n",
        "zero_arr = np.zeros((2,3))\n",
        "print(zero_arr)"
      ],
      "metadata": {
        "id": "QhLrUmO6-FyW",
        "colab": {
          "base_uri": "https://localhost:8080/"
        },
        "outputId": "1448bbcc-0364-47f1-eec0-993a98227bf5"
      },
      "execution_count": 29,
      "outputs": [
        {
          "output_type": "stream",
          "name": "stdout",
          "text": [
            "[[0. 0. 0.]\n",
            " [0. 0. 0.]]\n"
          ]
        }
      ]
    },
    {
      "cell_type": "code",
      "source": [
        "# TODO: 모두 1로 채워진 4 x 2 배열 만들기\n",
        "ones_arr = np.ones((4,2))\n",
        "print(ones_arr)"
      ],
      "metadata": {
        "id": "Gn-tjKIg-L90",
        "colab": {
          "base_uri": "https://localhost:8080/"
        },
        "outputId": "15fc6132-b40e-490e-c0fd-b7908c99a162"
      },
      "execution_count": 30,
      "outputs": [
        {
          "output_type": "stream",
          "name": "stdout",
          "text": [
            "[[1. 1.]\n",
            " [1. 1.]\n",
            " [1. 1.]\n",
            " [1. 1.]]\n"
          ]
        }
      ]
    },
    {
      "cell_type": "code",
      "source": [
        "# TODO: 모두 10으로 채워진 2 x 2 배열 만들기\n",
        "tens_arr = np.ones((2,2))*10\n",
        "print(tens_arr)"
      ],
      "metadata": {
        "id": "V2Wnoinl-RJG",
        "colab": {
          "base_uri": "https://localhost:8080/"
        },
        "outputId": "8552d8d1-aa11-42d1-be36-e094496e4aa9"
      },
      "execution_count": 31,
      "outputs": [
        {
          "output_type": "stream",
          "name": "stdout",
          "text": [
            "[[10. 10.]\n",
            " [10. 10.]]\n"
          ]
        }
      ]
    },
    {
      "cell_type": "markdown",
      "source": [
        "### b. 주어진 배열과 동일한 모양의 배열 만들기\n",
        "1. numpy.zeros_like (https://numpy.org/doc/stable/reference/generated/numpy.zeros_like.html#numpy.zeros_like)\n",
        "2. numpy.ones_like (https://numpy.org/doc/stable/reference/generated/numpy.ones_like.html#numpy.ones_like)\n",
        "3. numpy.full_like (https://numpy.org/doc/stable/reference/generated/numpy.full_like.html#numpy.full_like)"
      ],
      "metadata": {
        "id": "2w0KRgvU-j-5"
      }
    },
    {
      "cell_type": "code",
      "source": [
        "# TODO: ones_arr과 동일한 모양에 0으로 채워진 배열 만들기\n",
        "zeros_like_arr = np.zeros_like(ones_arr)\n",
        "print(zeros_like_arr)"
      ],
      "metadata": {
        "id": "03pOKkHP-vr1",
        "colab": {
          "base_uri": "https://localhost:8080/"
        },
        "outputId": "d6189121-9d66-481c-ae1a-663ca974dd6e"
      },
      "execution_count": 32,
      "outputs": [
        {
          "output_type": "stream",
          "name": "stdout",
          "text": [
            "[[0. 0.]\n",
            " [0. 0.]\n",
            " [0. 0.]\n",
            " [0. 0.]]\n"
          ]
        }
      ]
    },
    {
      "cell_type": "code",
      "source": [
        "# TODO: zeros_arr과 동일한 모양에 1로 채워진 배열 만들기\n",
        "ones_like_arr = np.ones_like(zero_arr)\n",
        "print(ones_like_arr)"
      ],
      "metadata": {
        "id": "IOdunDii-99b",
        "colab": {
          "base_uri": "https://localhost:8080/"
        },
        "outputId": "2f126caa-6ab6-44cc-94bd-6a415df6477e"
      },
      "execution_count": 33,
      "outputs": [
        {
          "output_type": "stream",
          "name": "stdout",
          "text": [
            "[[1. 1. 1.]\n",
            " [1. 1. 1.]]\n"
          ]
        }
      ]
    },
    {
      "cell_type": "code",
      "source": [
        "# TODO: zeros_arr과 동일한 모양에 0.1로 채워진 배열 만들기\n",
        "full_like_arr = np.ones_like(zero_arr)*0.1\n",
        "print(full_like_arr)"
      ],
      "metadata": {
        "id": "4fdlHNOx--0_",
        "colab": {
          "base_uri": "https://localhost:8080/"
        },
        "outputId": "85c6bb9e-f501-43ff-8b3e-6afc25cc4ed7"
      },
      "execution_count": 34,
      "outputs": [
        {
          "output_type": "stream",
          "name": "stdout",
          "text": [
            "[[0.1 0.1 0.1]\n",
            " [0.1 0.1 0.1]]\n"
          ]
        }
      ]
    },
    {
      "cell_type": "markdown",
      "source": [
        "### c. 기존의 데이터로 배열 만들기\n",
        "1. numpy.array (https://numpy.org/doc/stable/reference/generated/numpy.array.html)\n",
        "2. numpy.loadtxt (https://numpy.org/doc/stable/reference/generated/numpy.loadtxt.html) (텍스트 파일에 저장했다 불러오기, 생략)\n",
        "3. numpy.load (https://numpy.org/doc/stable/reference/generated/numpy.load.html) (.npy, .npz 등에 저장했다 불러오기, 생략)"
      ],
      "metadata": {
        "id": "egqPXV02_Q2v"
      }
    },
    {
      "cell_type": "code",
      "source": [
        "# TODO: new_list 리스트로 배열 만들기\n",
        "new_list = [1, 2, 3, 4]\n",
        "arr_from_list = np.array(new_list)\n",
        "print(\"An array from given list is \\n\", arr_from_list, \" with dimensions \", arr_from_list.shape, \"\\n\")"
      ],
      "metadata": {
        "id": "vTsEfE5g_VKn",
        "colab": {
          "base_uri": "https://localhost:8080/"
        },
        "outputId": "444cd088-001a-46a1-a9c7-f7873c91520e"
      },
      "execution_count": 35,
      "outputs": [
        {
          "output_type": "stream",
          "name": "stdout",
          "text": [
            "An array from given list is \n",
            " [1 2 3 4]  with dimensions  (4,) \n",
            "\n"
          ]
        }
      ]
    },
    {
      "cell_type": "markdown",
      "source": [
        "### d. 주어진 숫자 범위에서 만들기\n",
        "1. numpy.arange (https://numpy.org/doc/stable/reference/generated/numpy.arange.html)\n",
        "2. numpy.linspace (https://numpy.org/doc/stable/reference/generated/numpy.linspace.html)"
      ],
      "metadata": {
        "id": "0Z5lKuyYAZZX"
      }
    },
    {
      "cell_type": "code",
      "source": [
        "# TODO: 0부터 9까지 모든 정수를 담고 있는 배열 만들기\n",
        "range_arr = np.arange(0,10)\n",
        "print(\"An array given range is \\n\", range_arr, \" with dimensions \", range_arr.shape, \"\\n\")"
      ],
      "metadata": {
        "id": "ewS2vUv-Admk",
        "colab": {
          "base_uri": "https://localhost:8080/"
        },
        "outputId": "1bda9676-8753-4721-8149-c1d3ccb84bb8"
      },
      "execution_count": 36,
      "outputs": [
        {
          "output_type": "stream",
          "name": "stdout",
          "text": [
            "An array given range is \n",
            " [0 1 2 3 4 5 6 7 8 9]  with dimensions  (10,) \n",
            "\n"
          ]
        }
      ]
    },
    {
      "cell_type": "code",
      "source": [
        "# TODO: 2부터 3까지 [2, 3) 동일 간격으로 다섯 개의 실수를 포함하는 배열 만들기 (2는 포함, 3은 미포함)\n",
        "linspace_arr = np.arange(2,3,0.2)\n",
        "print(\"An evenly spaced array given range is \\n\", linspace_arr, \" with dimensions \", linspace_arr.shape, \"\\n\")"
      ],
      "metadata": {
        "id": "eaZaZ_dnAgjn",
        "colab": {
          "base_uri": "https://localhost:8080/"
        },
        "outputId": "4e2e5e7b-342f-41f2-f571-6e3e9b9a1baf"
      },
      "execution_count": 37,
      "outputs": [
        {
          "output_type": "stream",
          "name": "stdout",
          "text": [
            "An evenly spaced array given range is \n",
            " [2.  2.2 2.4 2.6 2.8]  with dimensions  (5,) \n",
            "\n"
          ]
        }
      ]
    },
    {
      "cell_type": "markdown",
      "source": [
        "### e. 무작위 값으로 채운 배열 만들기\n",
        "\n",
        "1. numpy.random.rand (https://numpy.org/doc/stable/reference/random/generated/numpy.random.rand.html)\n",
        "2. numpy.random.randint (https://numpy.org/doc/stable/reference/random/generated/numpy.random.randint.html)\n",
        "3. numpy.random.randn (https://numpy.org/doc/stable/reference/random/generated/numpy.random.randn.html)"
      ],
      "metadata": {
        "id": "Uw6CMn_nAqDs"
      }
    },
    {
      "cell_type": "code",
      "source": [
        "# TODO: [0, 1)에서 추출한 무작위 실수로 3 x 2 배열 만들기\n",
        "uniform_rand_arr = np.random.rand(3,2)\n",
        "print(\"A random array from a uniform distribution is \\n\", uniform_rand_arr, \" with dimensions \", uniform_rand_arr.shape, \"\\n\")"
      ],
      "metadata": {
        "id": "dJS_5WXhAvMu",
        "colab": {
          "base_uri": "https://localhost:8080/"
        },
        "outputId": "db98efb8-d722-43b6-a4b0-b9d73cfee01e"
      },
      "execution_count": 38,
      "outputs": [
        {
          "output_type": "stream",
          "name": "stdout",
          "text": [
            "A random array from a uniform distribution is \n",
            " [[0.70522096 0.29189911]\n",
            " [0.80365314 0.02282351]\n",
            " [0.24424084 0.03516064]]  with dimensions  (3, 2) \n",
            "\n"
          ]
        }
      ]
    },
    {
      "cell_type": "code",
      "source": [
        "# TODO: [0, 5)에서 추출한 무작위 정수로 2 x 4 배열 만들기\n",
        "range_rand_int_arr = np.random.randint(0,5,(2,4))\n",
        "print(\"A random integer array from a range is \\n\", range_rand_int_arr, \" with dimensions \", range_rand_int_arr.shape, \"\\n\")"
      ],
      "metadata": {
        "id": "RTxD3yZeAyyk",
        "colab": {
          "base_uri": "https://localhost:8080/"
        },
        "outputId": "68107e29-f56d-4ab6-87f3-a12e81012a18"
      },
      "execution_count": 39,
      "outputs": [
        {
          "output_type": "stream",
          "name": "stdout",
          "text": [
            "A random integer array from a range is \n",
            " [[3 1 3 4]\n",
            " [1 2 0 2]]  with dimensions  (2, 4) \n",
            "\n"
          ]
        }
      ]
    },
    {
      "cell_type": "markdown",
      "source": [
        "정규분포 $\\mathcal{N}(\\mu, \\sigma^2)$에서 추출한 표본들로 배열 만들 때:<br>\n",
        "$\\mu$ + $\\sigma$ * np.random.randn(...) "
      ],
      "metadata": {
        "id": "ckWKDzXE7ywQ"
      }
    },
    {
      "cell_type": "code",
      "source": [
        "# TODO: 평균: 3, 표준편차: 2.5인 정규분포에서 추출한 무작위 실수로 2 x 4 배열 만들기 \n",
        "mu = 3\n",
        "sigma = 2.5\n",
        "sample_normal_arr = mu + sigma * np.random.randn(2,4)\n",
        "print(\"A random array from a gaussian distribution is \\n\", sample_normal_arr)\n",
        "print(\"with mu: \", mu)\n",
        "print(\"with sigma: \", sigma)\n",
        "print(\"with dimensions \", sample_normal_arr.shape)"
      ],
      "metadata": {
        "id": "Ngpy3oy2A1Uv",
        "colab": {
          "base_uri": "https://localhost:8080/"
        },
        "outputId": "175e04fe-c817-48b5-885b-3d9c6e4a8cd3"
      },
      "execution_count": 40,
      "outputs": [
        {
          "output_type": "stream",
          "name": "stdout",
          "text": [
            "A random array from a gaussian distribution is \n",
            " [[-0.28696223  1.5417277   1.11061088  2.71914386]\n",
            " [ 7.45204481  2.57629551 -0.12686761  4.51901016]]\n",
            "with mu:  3\n",
            "with sigma:  2.5\n",
            "with dimensions  (2, 4)\n"
          ]
        }
      ]
    },
    {
      "cell_type": "code",
      "source": [],
      "metadata": {
        "id": "1ODPz2QzLE-O"
      },
      "execution_count": 40,
      "outputs": []
    }
  ]
}