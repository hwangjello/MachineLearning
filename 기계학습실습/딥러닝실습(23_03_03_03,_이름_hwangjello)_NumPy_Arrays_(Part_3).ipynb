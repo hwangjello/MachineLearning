{
  "nbformat": 4,
  "nbformat_minor": 0,
  "metadata": {
    "colab": {
      "provenance": []
    },
    "kernelspec": {
      "name": "python3",
      "display_name": "Python 3"
    },
    "language_info": {
      "name": "python"
    }
  },
  "cells": [
    {
      "cell_type": "markdown",
      "source": [
        "# NumPy Arrays - Part 3<br>\n",
        "NumPy - 대규모의 다차원 배열을 쉽게 처리할 때 사용하는 파이썬 라이브러리<br>\n",
        "\n",
        "원본 출처: Introduction to Deep Learning at Carnegie Mellon University (https://deeplearning.cs.cmu.edu/S22/index.html)"
      ],
      "metadata": {
        "id": "6lftPq60eQHf"
      }
    },
    {
      "cell_type": "code",
      "execution_count": 17,
      "metadata": {
        "id": "mYtDfXUjeNpz"
      },
      "outputs": [],
      "source": [
        "# Import the NumPy \n",
        "import numpy as np"
      ]
    },
    {
      "cell_type": "markdown",
      "source": [
        "## 1. 데이터 읽어오기"
      ],
      "metadata": {
        "id": "OZpy5ioQeTOo"
      }
    },
    {
      "cell_type": "markdown",
      "source": [
        "### a. 인덱싱: NumPy 배열에서 값 읽어오기"
      ],
      "metadata": {
        "id": "zpzke-V6eajK"
      }
    },
    {
      "cell_type": "code",
      "source": [
        "# TODO: 무작위 값으로 채워진 4 x 5 x 6 배열을 만들어보세요. (5 x 6 행렬이 4개 묶음 있는 것으로 해석할 수 있음)\n",
        "n = np.random.rand(4, 5, 6)\n",
        "n.shape"
      ],
      "metadata": {
        "id": "r6zIS_dhelNd",
        "colab": {
          "base_uri": "https://localhost:8080/"
        },
        "outputId": "7902752c-8526-4a28-9a18-e7cc5a35b457"
      },
      "execution_count": 18,
      "outputs": [
        {
          "output_type": "execute_result",
          "data": {
            "text/plain": [
              "(4, 5, 6)"
            ]
          },
          "metadata": {},
          "execution_count": 18
        }
      ]
    },
    {
      "cell_type": "markdown",
      "source": [
        "나중에 다룰 MNIST (필기체 인식) 데이터셋의 모양은 (60000, 28, 28)인데\n",
        "28 (행의 수, 높이) x 28 (열의 수, 너비)의 그림 60000만장이 있는 것으로 해석됩니다."
      ],
      "metadata": {
        "id": "sHiTWnqJ9brp"
      }
    },
    {
      "cell_type": "code",
      "source": [
        "# TODO: n에서 두 번째 묶음의 세 번째 행, 네 번째 열의 값은? (인덱스는 0에서 시작함)\n",
        "\n",
        "n[1][2][3]"
      ],
      "metadata": {
        "id": "HN_8Ea0pexSd",
        "colab": {
          "base_uri": "https://localhost:8080/"
        },
        "outputId": "2698516b-6355-4ade-a69c-496acd786456"
      },
      "execution_count": 19,
      "outputs": [
        {
          "output_type": "execute_result",
          "data": {
            "text/plain": [
              "0.14613014307393513"
            ]
          },
          "metadata": {},
          "execution_count": 19
        }
      ]
    },
    {
      "cell_type": "markdown",
      "source": [
        "### b. 슬라이싱: NumPy 배열의 일부를 가져오기\n",
        "\n",
        "시작(포함):끝(미포함)으로 연속된 항목을 슬라이싱 <br>\n",
        ":만 쓰면 전체"
      ],
      "metadata": {
        "id": "PAaBZXXXed7s"
      }
    },
    {
      "cell_type": "code",
      "source": [
        "# 첫 번째 묶음의 모든 행렬 가져오기\n",
        "print(n[0, :, :]) # same as: n[0], 정답이므로 수정할 필요 없음"
      ],
      "metadata": {
        "id": "L9Q2XHHJfksz",
        "colab": {
          "base_uri": "https://localhost:8080/"
        },
        "outputId": "fc490c22-18d0-4031-e1a7-79b3d345c5ad"
      },
      "execution_count": 20,
      "outputs": [
        {
          "output_type": "stream",
          "name": "stdout",
          "text": [
            "[[0.17499086 0.79057158 0.70392876 0.20966316 0.90944325 0.9666683 ]\n",
            " [0.65384716 0.15666819 0.58407713 0.03410145 0.53366472 0.20820603]\n",
            " [0.1399377  0.4011908  0.09422645 0.91397611 0.47171973 0.82911504]\n",
            " [0.43661816 0.91651681 0.4313007  0.29186    0.09081065 0.50342498]\n",
            " [0.84241931 0.29319996 0.22771251 0.10204733 0.12395176 0.02964839]]\n"
          ]
        }
      ]
    },
    {
      "cell_type": "code",
      "source": [
        "# TODO: 첫 번째 묶음에서 [0, 3) 행, [0, 4) 열 가져오기, 즉 3 x 4 배열이 나와야 함\n",
        "print(n[0,:3 ,:4 ])"
      ],
      "metadata": {
        "id": "us7ZbaWNfoCM",
        "colab": {
          "base_uri": "https://localhost:8080/"
        },
        "outputId": "20e1ac00-46f3-430a-daf2-f655ac32db3f"
      },
      "execution_count": 21,
      "outputs": [
        {
          "output_type": "stream",
          "name": "stdout",
          "text": [
            "[[0.17499086 0.79057158 0.70392876 0.20966316]\n",
            " [0.65384716 0.15666819 0.58407713 0.03410145]\n",
            " [0.1399377  0.4011908  0.09422645 0.91397611]]\n"
          ]
        }
      ]
    },
    {
      "cell_type": "code",
      "source": [
        "# TODO: 전체 묶음에서 4번 째 행, 5번째 열 값들 가져오기\n",
        "print(n[:,3:4 , 4:5]) "
      ],
      "metadata": {
        "id": "Vu1fbcCdfwTb",
        "colab": {
          "base_uri": "https://localhost:8080/"
        },
        "outputId": "4e1046ed-adba-43f6-9331-406febac7aac"
      },
      "execution_count": 22,
      "outputs": [
        {
          "output_type": "stream",
          "name": "stdout",
          "text": [
            "[[[0.09081065]]\n",
            "\n",
            " [[0.13811195]]\n",
            "\n",
            " [[0.36606787]]\n",
            "\n",
            " [[0.50113561]]]\n"
          ]
        }
      ]
    },
    {
      "cell_type": "markdown",
      "source": [
        "### c. Slicing at Interval\n",
        "시작::증가폭(스텝)으로 띄엄띄엄 슬라이싱<br>\n",
        "예) a[7::2]인 경우 a[7], a[9], a[11], ... 을 가져와서 배열로 만듦"
      ],
      "metadata": {
        "id": "x5XCMrnifzxx"
      }
    },
    {
      "cell_type": "code",
      "source": [
        "# TODO: 0번 묶음, 2번 묶음, 4번 묶음, ... 슬라이싱 (n은 3번 묶음까지만 있어서 두 개의 묶음만 출력됨)\n",
        "print(n[0::2]) "
      ],
      "metadata": {
        "id": "1n6mZkqif9_T",
        "colab": {
          "base_uri": "https://localhost:8080/"
        },
        "outputId": "72870e9a-aff7-48bf-ab75-55ea55e2e037"
      },
      "execution_count": 23,
      "outputs": [
        {
          "output_type": "stream",
          "name": "stdout",
          "text": [
            "[[[0.17499086 0.79057158 0.70392876 0.20966316 0.90944325 0.9666683 ]\n",
            "  [0.65384716 0.15666819 0.58407713 0.03410145 0.53366472 0.20820603]\n",
            "  [0.1399377  0.4011908  0.09422645 0.91397611 0.47171973 0.82911504]\n",
            "  [0.43661816 0.91651681 0.4313007  0.29186    0.09081065 0.50342498]\n",
            "  [0.84241931 0.29319996 0.22771251 0.10204733 0.12395176 0.02964839]]\n",
            "\n",
            " [[0.99719152 0.53264257 0.17841442 0.85741047 0.88288598 0.36887377]\n",
            "  [0.31747379 0.56922666 0.38921576 0.85805521 0.17920737 0.73026188]\n",
            "  [0.49266143 0.51396386 0.25710882 0.67981646 0.58109345 0.12109302]\n",
            "  [0.1200661  0.31359511 0.34734078 0.00300424 0.36606787 0.11168611]\n",
            "  [0.72117971 0.7954443  0.38479242 0.55890931 0.32227559 0.8112213 ]]]\n"
          ]
        }
      ]
    },
    {
      "cell_type": "markdown",
      "source": [
        "원래 n의 모습과 비교해가며 아래의 결과는 어떻게 만들어진 것인지 이해하고 넘어가세요."
      ],
      "metadata": {
        "id": "n6-gq4BR-3gz"
      }
    },
    {
      "cell_type": "code",
      "source": [
        "print(n[0::2, 1:4, 1::2]) "
      ],
      "metadata": {
        "id": "SAx6WFBPgCbG",
        "colab": {
          "base_uri": "https://localhost:8080/"
        },
        "outputId": "843edec7-3f47-49bb-9fa0-393659d02c2a"
      },
      "execution_count": 24,
      "outputs": [
        {
          "output_type": "stream",
          "name": "stdout",
          "text": [
            "[[[0.15666819 0.03410145 0.20820603]\n",
            "  [0.4011908  0.91397611 0.82911504]\n",
            "  [0.91651681 0.29186    0.50342498]]\n",
            "\n",
            " [[0.56922666 0.85805521 0.73026188]\n",
            "  [0.51396386 0.67981646 0.12109302]\n",
            "  [0.31359511 0.00300424 0.11168611]]]\n"
          ]
        }
      ]
    },
    {
      "cell_type": "markdown",
      "source": [
        "## 2. 데이터 수정하기"
      ],
      "metadata": {
        "id": "0HXKLxUNgUu5"
      }
    },
    {
      "cell_type": "code",
      "source": [
        "# 배열 복사하기\n",
        "n_copy = np.copy(n)"
      ],
      "metadata": {
        "id": "pPKNAGrtgaP4"
      },
      "execution_count": 25,
      "outputs": []
    },
    {
      "cell_type": "markdown",
      "source": [
        "### a. 하나의 값 수정하기"
      ],
      "metadata": {
        "id": "urMfsMrCgIxu"
      }
    },
    {
      "cell_type": "code",
      "source": [
        "# 복사한 배열과 n이 같은지 하나의 항목 확인\n",
        "print(n_copy[2, 4, 1] == n[2, 4, 1])"
      ],
      "metadata": {
        "id": "B5LbQnWhgevJ",
        "colab": {
          "base_uri": "https://localhost:8080/"
        },
        "outputId": "a7b14fbd-7918-4df8-d9e1-63e719f387d0"
      },
      "execution_count": 26,
      "outputs": [
        {
          "output_type": "stream",
          "name": "stdout",
          "text": [
            "True\n"
          ]
        }
      ]
    },
    {
      "cell_type": "code",
      "source": [
        "# TODO: 복사한 배열 n_copy[2, 4, 1]의 값을 0.005로 변경\n",
        "n_copy[2,4,1]=0.005\n",
        "\n",
        "# 여전히 내용이 같은지 확인\n",
        "print(n_copy[2, 4, 1] == n[2, 4, 1])"
      ],
      "metadata": {
        "id": "2kLxN9FC_CBq",
        "colab": {
          "base_uri": "https://localhost:8080/"
        },
        "outputId": "93c4c403-74e2-4941-ebad-bf548570a3d5"
      },
      "execution_count": 27,
      "outputs": [
        {
          "output_type": "stream",
          "name": "stdout",
          "text": [
            "False\n"
          ]
        }
      ]
    },
    {
      "cell_type": "markdown",
      "source": [
        "n_copy는 n을 복사한 것이지만 n과 다른 위치에 독립적으로 존재한다. 만약 copy 함수로 복사하지 않고 m = n으로 m을 만든다음 m[2, 4, 1] 값을 수정하면 어떻게 될까? "
      ],
      "metadata": {
        "id": "IFmfB2Sy_LBp"
      }
    },
    {
      "cell_type": "code",
      "source": [
        "print('Before: ', n[2, 4, 1])\n",
        "m = n\n",
        "m[2, 4, 1] = 0.5\n",
        "print('After: ', n[2, 4, 1])"
      ],
      "metadata": {
        "id": "UEdqzyNAg0wh",
        "colab": {
          "base_uri": "https://localhost:8080/"
        },
        "outputId": "2bf1d3a3-69c7-439a-ec78-c9771b9f27e4"
      },
      "execution_count": 28,
      "outputs": [
        {
          "output_type": "stream",
          "name": "stdout",
          "text": [
            "Before:  0.7954443017115326\n",
            "After:  0.5\n"
          ]
        }
      ]
    },
    {
      "cell_type": "code",
      "source": [
        "# n, m, n_copy가 저장된 장소 출력\n",
        "print(id(n))\n",
        "print(id(m))\n",
        "print(id(n_copy))"
      ],
      "metadata": {
        "id": "Q-PQLVO0_xLt",
        "colab": {
          "base_uri": "https://localhost:8080/"
        },
        "outputId": "a9d243ce-1337-4c87-ddde-6234e61a255c"
      },
      "execution_count": 29,
      "outputs": [
        {
          "output_type": "stream",
          "name": "stdout",
          "text": [
            "140593607894000\n",
            "140593607894000\n",
            "140593118204720\n"
          ]
        }
      ]
    },
    {
      "cell_type": "markdown",
      "source": [
        "### b. 여러 항목의 값을 같은 값으로 수정하기"
      ],
      "metadata": {
        "id": "s3oD5YFChL6l"
      }
    },
    {
      "cell_type": "code",
      "source": [
        "n_copy = np.copy(n)\n",
        "\n",
        "# n_copy 3번째 묶음의 4번째 행의 값 확인\n",
        "print(n_copy[2, 3])"
      ],
      "metadata": {
        "id": "032j547jhO3Y",
        "colab": {
          "base_uri": "https://localhost:8080/"
        },
        "outputId": "66284e66-04ba-4706-fcc2-ca283a5ba0bd"
      },
      "execution_count": 30,
      "outputs": [
        {
          "output_type": "stream",
          "name": "stdout",
          "text": [
            "[0.1200661  0.31359511 0.34734078 0.00300424 0.36606787 0.11168611]\n"
          ]
        }
      ]
    },
    {
      "cell_type": "code",
      "source": [
        "# TODO: n_copy 3번째 묶음, 4번째 행의 값을 모두 0.5로 바꾸기\n",
        "n_copy[2, 3] = 0.5\n",
        "\n",
        "# n_copy 3번째 묶음의 4번째 열의 값 확인\n",
        "print(n_copy[2, 3])"
      ],
      "metadata": {
        "id": "XquPn1uhAYbA",
        "colab": {
          "base_uri": "https://localhost:8080/"
        },
        "outputId": "89184b47-86f9-4dd5-ee5f-78187bfb426b"
      },
      "execution_count": 31,
      "outputs": [
        {
          "output_type": "stream",
          "name": "stdout",
          "text": [
            "[0.5 0.5 0.5 0.5 0.5 0.5]\n"
          ]
        }
      ]
    },
    {
      "cell_type": "code",
      "source": [],
      "metadata": {
        "id": "QfIiDgSzOdT3"
      },
      "execution_count": 31,
      "outputs": []
    }
  ]
}