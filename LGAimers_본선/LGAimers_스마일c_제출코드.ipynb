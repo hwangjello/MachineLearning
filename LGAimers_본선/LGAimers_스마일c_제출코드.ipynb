{
 "cells": [
  {
   "cell_type": "markdown",
   "id": "ZJBm2amd3Lb5",
   "metadata": {
    "id": "ZJBm2amd3Lb5"
   },
   "source": [
    "# 팀 스마일C 코드 제출\n",
    "* 팀원: 정우섭, 김유민, 김유진, 장동언, 황정묵\n",
    "* PRIVATE SCORE: 0.65887 \n",
    "* PRIVATE RANKING: 36"
   ]
  },
  {
   "cell_type": "markdown",
   "id": "CwuGPDTVMXHe",
   "metadata": {
    "id": "CwuGPDTVMXHe"
   },
   "source": [
    "# 개발 환경\n",
    "* OS : Windows11\n",
    "* python: 3.10.10\n",
    "* 라이브러리 버전 : requirements.txt 참조"
   ]
  },
  {
   "cell_type": "markdown",
   "id": "QIfodgpc3HP6",
   "metadata": {
    "id": "QIfodgpc3HP6"
   },
   "source": [
    "# 0.Data Load\n",
    "1. install packages\n",
    "2. import libraries and csv data files"
   ]
  },
  {
   "cell_type": "code",
   "execution_count": 1,
   "id": "6ab709fe",
   "metadata": {
    "colab": {
     "base_uri": "https://localhost:8080/"
    },
    "id": "6ab709fe",
    "outputId": "6786e4e5-5635-49ae-e2b2-1215eefe1b88"
   },
   "outputs": [],
   "source": [
    "# !pip install catboost\n",
    "# !pip install lightgbm\n",
    "# !pip install optuna \n",
    "# !pip install xgboost\n",
    "# !pip install torch"
   ]
  },
  {
   "cell_type": "code",
   "execution_count": 2,
   "id": "94682a80",
   "metadata": {
    "colab": {
     "base_uri": "https://localhost:8080/"
    },
    "id": "94682a80",
    "outputId": "29de6603-ace9-4570-f7e5-540a57663187"
   },
   "outputs": [
    {
     "name": "stderr",
     "output_type": "stream",
     "text": [
      "2023-03-26 14:05:04.443743: I tensorflow/core/platform/cpu_feature_guard.cc:182] This TensorFlow binary is optimized to use available CPU instructions in performance-critical operations.\n",
      "To enable the following instructions: AVX2 FMA, in other operations, rebuild TensorFlow with the appropriate compiler flags.\n",
      "2023-03-26 14:05:05.479464: W tensorflow/compiler/tf2tensorrt/utils/py_utils.cc:38] TF-TRT Warning: Could not find TensorRT\n"
     ]
    },
    {
     "name": "stdout",
     "output_type": "stream",
     "text": [
      "Requirement already satisfied: optuna in /usr/local/lib/python3.8/site-packages (3.1.0)\n",
      "Requirement already satisfied: sqlalchemy>=1.3.0 in /usr/local/lib/python3.8/site-packages (from optuna) (2.0.4)\n",
      "Requirement already satisfied: PyYAML in /usr/local/lib/python3.8/site-packages (from optuna) (6.0)\n",
      "Requirement already satisfied: cmaes>=0.9.1 in /usr/local/lib/python3.8/site-packages (from optuna) (0.9.1)\n",
      "Requirement already satisfied: alembic>=1.5.0 in /usr/local/lib/python3.8/site-packages (from optuna) (1.9.4)\n",
      "Requirement already satisfied: tqdm in /usr/local/lib/python3.8/site-packages (from optuna) (4.64.1)\n",
      "Requirement already satisfied: packaging>=20.0 in /usr/local/lib/python3.8/site-packages (from optuna) (23.0)\n",
      "Requirement already satisfied: colorlog in /usr/local/lib/python3.8/site-packages (from optuna) (6.7.0)\n",
      "Requirement already satisfied: numpy in /usr/local/lib/python3.8/site-packages (from optuna) (1.23.5)\n",
      "Requirement already satisfied: Mako in /usr/local/lib/python3.8/site-packages (from alembic>=1.5.0->optuna) (1.2.4)\n",
      "Requirement already satisfied: importlib-metadata in /usr/local/lib/python3.8/site-packages (from alembic>=1.5.0->optuna) (6.0.0)\n",
      "Requirement already satisfied: importlib-resources in /usr/local/lib/python3.8/site-packages (from alembic>=1.5.0->optuna) (5.12.0)\n",
      "Requirement already satisfied: typing-extensions>=4.2.0 in /usr/local/lib/python3.8/site-packages (from sqlalchemy>=1.3.0->optuna) (4.5.0)\n",
      "Requirement already satisfied: greenlet!=0.4.17 in /usr/local/lib/python3.8/site-packages (from sqlalchemy>=1.3.0->optuna) (2.0.2)\n",
      "Requirement already satisfied: zipp>=0.5 in /usr/local/lib/python3.8/site-packages (from importlib-metadata->alembic>=1.5.0->optuna) (3.15.0)\n",
      "Requirement already satisfied: MarkupSafe>=0.9.2 in /usr/local/lib/python3.8/site-packages (from Mako->alembic>=1.5.0->optuna) (2.1.2)\n",
      "\u001b[33mWARNING: Running pip as the 'root' user can result in broken permissions and conflicting behaviour with the system package manager. It is recommended to use a virtual environment instead: https://pip.pypa.io/warnings/venv\u001b[0m\u001b[33m\n",
      "\u001b[0m"
     ]
    }
   ],
   "source": [
    "import pandas as pd\n",
    "import random\n",
    "import os\n",
    "import numpy as np\n",
    "import matplotlib.pyplot as plt   \n",
    "import seaborn as sns \n",
    "\n",
    "# model evaluation, preprocessing \n",
    "import sklearn\n",
    "from sklearn import preprocessing, metrics\n",
    "from sklearn.preprocessing import LabelEncoder, OneHotEncoder, StandardScaler, MinMaxScaler\n",
    "from sklearn.model_selection import train_test_split, KFold, cross_validate,GridSearchCV\n",
    "from sklearn.metrics import accuracy_score, classification_report, f1_score, roc_auc_score, log_loss\n",
    "\n",
    "# sequential model modeling \n",
    "import tensorflow as tf\n",
    "from tensorflow import keras\n",
    "from keras import regularizers\n",
    "from keras.models import Sequential\n",
    "from keras.layers import Dense,Dropout, Activation\n",
    "from keras import backend as K \n",
    "from keras import regularizers\n",
    "from keras.layers import Dense,Dropout, Activation, BatchNormalization, Conv2D, Flatten  \n",
    "from keras import optimizers, metrics, callbacks\n",
    "from keras.backend import clear_session\n",
    "\n",
    "# optuna Hyper-params tuning\n",
    "!pip install optuna\n",
    "import optuna\n",
    "from optuna import Trial\n",
    "from optuna.samplers import TPESampler\n",
    "from optuna.visualization import plot_optimization_history, plot_param_importances, plot_parallel_coordinate, plot_contour\n",
    "\n",
    "# ML classification models \n",
    "from lightgbm import LGBMClassifier\n",
    "from catboost import CatBoostClassifier\n",
    "from sklearn.ensemble import BaggingClassifier, GradientBoostingClassifier, RandomForestClassifier,VotingClassifier\n",
    "from sklearn.tree import DecisionTreeClassifier\n",
    "from sklearn.linear_model import RidgeClassifierCV\n",
    "from xgboost import XGBClassifier\n",
    "\n",
    "# # Google Drive mount\n",
    "# from google.colab import drive \n",
    "# drive.mount('/content/drive')"
   ]
  },
  {
   "cell_type": "code",
   "execution_count": 3,
   "id": "0AdADLxT1DoQ",
   "metadata": {
    "colab": {
     "base_uri": "https://localhost:8080/"
    },
    "id": "0AdADLxT1DoQ",
    "outputId": "0ea2137d-1903-470b-f627-c40e627b3538"
   },
   "outputs": [
    {
     "name": "stderr",
     "output_type": "stream",
     "text": [
      "2023-03-26 14:05:12.002925: I tensorflow/compiler/xla/stream_executor/cuda/cuda_gpu_executor.cc:996] successful NUMA node read from SysFS had negative value (-1), but there must be at least one NUMA node, so returning NUMA node zero. See more at https://github.com/torvalds/linux/blob/v6.0/Documentation/ABI/testing/sysfs-bus-pci#L344-L355\n",
      "2023-03-26 14:05:12.015520: I tensorflow/compiler/xla/stream_executor/cuda/cuda_gpu_executor.cc:996] successful NUMA node read from SysFS had negative value (-1), but there must be at least one NUMA node, so returning NUMA node zero. See more at https://github.com/torvalds/linux/blob/v6.0/Documentation/ABI/testing/sysfs-bus-pci#L344-L355\n",
      "2023-03-26 14:05:12.016804: I tensorflow/compiler/xla/stream_executor/cuda/cuda_gpu_executor.cc:996] successful NUMA node read from SysFS had negative value (-1), but there must be at least one NUMA node, so returning NUMA node zero. See more at https://github.com/torvalds/linux/blob/v6.0/Documentation/ABI/testing/sysfs-bus-pci#L344-L355\n"
     ]
    },
    {
     "name": "stdout",
     "output_type": "stream",
     "text": [
      "37\n"
     ]
    },
    {
     "name": "stderr",
     "output_type": "stream",
     "text": [
      "2023-03-26 14:05:12.785766: I tensorflow/compiler/xla/stream_executor/cuda/cuda_gpu_executor.cc:996] successful NUMA node read from SysFS had negative value (-1), but there must be at least one NUMA node, so returning NUMA node zero. See more at https://github.com/torvalds/linux/blob/v6.0/Documentation/ABI/testing/sysfs-bus-pci#L344-L355\n",
      "2023-03-26 14:05:12.787319: I tensorflow/compiler/xla/stream_executor/cuda/cuda_gpu_executor.cc:996] successful NUMA node read from SysFS had negative value (-1), but there must be at least one NUMA node, so returning NUMA node zero. See more at https://github.com/torvalds/linux/blob/v6.0/Documentation/ABI/testing/sysfs-bus-pci#L344-L355\n",
      "2023-03-26 14:05:12.788797: I tensorflow/compiler/xla/stream_executor/cuda/cuda_gpu_executor.cc:996] successful NUMA node read from SysFS had negative value (-1), but there must be at least one NUMA node, so returning NUMA node zero. See more at https://github.com/torvalds/linux/blob/v6.0/Documentation/ABI/testing/sysfs-bus-pci#L344-L355\n",
      "2023-03-26 14:05:12.790119: I tensorflow/core/common_runtime/gpu/gpu_device.cc:1635] Created device /job:localhost/replica:0/task:0/device:GPU:0 with 22996 MB memory:  -> device: 0, name: Tesla P40, pci bus id: 0000:00:05.0, compute capability: 6.1\n"
     ]
    }
   ],
   "source": [
    "# seed fixing for reproduction \n",
    "import torch \n",
    "import random as rn \n",
    "\n",
    "def seed_everything(seed):\n",
    "    random.seed(seed)\n",
    "    os.environ['PYTHONHASHSEED'] = str(seed)\n",
    "    np.random.seed(seed)\n",
    "    torch.manual_seed(seed)\n",
    "    torch.cuda.manual_seed(seed)  # type: ignore\n",
    "    torch.backends.cudnn.deterministic = True  # type: ignore\n",
    "    torch.backends.cudnn.benchmark = True  # type: ignore\n",
    "seed_everything(37)\n",
    "seed_num=37\n",
    "seed=37\n",
    "\n",
    "np.random.seed(seed_num)\n",
    "rn.seed(seed_num) \n",
    "tf.random.set_seed(seed_num)\n",
    "session_conf = tf.compat.v1.ConfigProto(intra_op_parallelism_threads=1, inter_op_parallelism_threads=1)\n",
    "sess = tf.compat.v1.Session(config=session_conf)\n",
    "K.set_session(sess)\n",
    "\n",
    "class config:   \n",
    "    seed = 37  \n",
    "    device = \"cuda:0\"            \n",
    "\n",
    "def seed_everything(seed: int = 37):\n",
    "    random.seed(seed)\n",
    "    np.random.seed(seed)\n",
    "    os.environ[\"PYTHONHASHSEED\"] = str(seed)\n",
    "    tf.random.set_seed(seed)\n",
    "seed_everything(config.seed)\n",
    "tf.random.set_seed(37) # tensorflow global seed \n",
    "print(config.seed)     "
   ]
  },
  {
   "cell_type": "code",
   "execution_count": 4,
   "id": "lQROx2fcxIW7",
   "metadata": {
    "id": "lQROx2fcxIW7"
   },
   "outputs": [],
   "source": [
    "train_df = pd.read_csv('train.csv')\n",
    "test_df = pd.read_csv('test.csv')\n",
    "submit = pd.read_csv('sample_submission.csv')\n",
    "\n",
    "train_x = train_df.drop(columns=['PRODUCT_ID', 'Y_Class','Y_Quality'])\n",
    "train_y = train_df['Y_Class']\n",
    "test_x = test_df.drop(columns=['PRODUCT_ID'])   "
   ]
  },
  {
   "cell_type": "markdown",
   "id": "wqkW_3EbQxj1",
   "metadata": {
    "id": "wqkW_3EbQxj1"
   },
   "source": [
    "# 1.Data & Features"
   ]
  },
  {
   "cell_type": "markdown",
   "id": "ZK3O2Kd24yP_",
   "metadata": {
    "id": "ZK3O2Kd24yP_"
   },
   "source": [
    "## 1.1 EDA\n",
    "1. feature correlation heatmaps\n",
    "2. feature importance\n",
    "3. feature distribution plots"
   ]
  },
  {
   "cell_type": "code",
   "execution_count": 5,
   "id": "E1vfXTKcK9Dt",
   "metadata": {
    "id": "E1vfXTKcK9Dt"
   },
   "outputs": [
    {
     "ename": "IndexError",
     "evalue": "list index out of range",
     "output_type": "error",
     "traceback": [
      "\u001b[0;31m---------------------------------------------------------------------------\u001b[0m",
      "\u001b[0;31mIndexError\u001b[0m                                Traceback (most recent call last)",
      "Cell \u001b[0;32mIn[5], line 11\u001b[0m\n\u001b[1;32m      9\u001b[0m \u001b[38;5;28;01mfor\u001b[39;00m i \u001b[38;5;129;01min\u001b[39;00m \u001b[38;5;28mrange\u001b[39m(\u001b[38;5;241m20\u001b[39m):\n\u001b[1;32m     10\u001b[0m     num \u001b[38;5;241m=\u001b[39m random\u001b[38;5;241m.\u001b[39mrandint(\u001b[38;5;241m1\u001b[39m,\u001b[38;5;241m3326\u001b[39m)\n\u001b[0;32m---> 11\u001b[0m     a\u001b[38;5;241m.\u001b[39mappend(\u001b[43mcols_name\u001b[49m\u001b[43m[\u001b[49m\u001b[43mi\u001b[49m\u001b[43m]\u001b[49m)\n\u001b[1;32m     13\u001b[0m \u001b[38;5;66;03m# heatmap: `random X features` and `Y_Quality` correlation\u001b[39;00m\n\u001b[1;32m     14\u001b[0m corr \u001b[38;5;241m=\u001b[39m train_df[a]\u001b[38;5;241m.\u001b[39mcorr()  \u001b[38;5;66;03m# correlation matrix\u001b[39;00m\n",
      "\u001b[0;31mIndexError\u001b[0m: list index out of range"
     ]
    }
   ],
   "source": [
    "# random 20 features list (모두 NaN인 컬럼 제외하고, 랜덤 20개 feature의 상관관계 히트맵)\n",
    "Xs = train_df.iloc[:,4:].columns\n",
    "null_count = train_df.isnull().sum().to_dict()\n",
    "cols = pd.DataFrame({i for i in null_count if null_count[i]<250 and i in Xs})\n",
    "cols_name = list(cols[0])  # not_all_NAN features name in list \n",
    "\n",
    "import random\n",
    "a = ['Y_Quality']\n",
    "for i in range(20):\n",
    "    num = random.randint(1,3326)\n",
    "    a.append(cols_name[i])\n",
    "\n",
    "# heatmap: `random X features` and `Y_Quality` correlation\n",
    "corr = train_df[a].corr()  # correlation matrix\n",
    "fig, ax = plt.subplots(figsize=(15,10))\n",
    "sns.heatmap(corr, annot=True, fmt='.2f', cmap='Blues', linewidths=2);"
   ]
  },
  {
   "cell_type": "code",
   "execution_count": 6,
   "id": "lLsOtCgTSvRA",
   "metadata": {
    "id": "lLsOtCgTSvRA"
   },
   "outputs": [
    {
     "data": {
      "image/png": "[encoded data removed]",
      "text/plain": [
       "<Figure size 1000x1000 with 1 Axes>"
      ]
     },
     "metadata": {},
     "output_type": "display_data"
    }
   ],
   "source": [
    "# feature 중요도\n",
    "import matplotlib.pyplot as plt\n",
    "import seaborn as sns\n",
    "from sklearn.ensemble import RandomForestRegressor\n",
    "\n",
    "qual_col = ['LINE', 'PRODUCT_CODE']\n",
    "for i in qual_col:\n",
    "    le = LabelEncoder()\n",
    "    le = le.fit(train_x[i])\n",
    "    train_x[i] = le.transform(train_x[i])\n",
    "    for label in np.unique(test_x[i]):\n",
    "        if label not in le.classes_:\n",
    "            le.classes_ = np.append(le.classes_, label)\n",
    "    test_x[i] = le.transform(test_x[i])\n",
    "\n",
    "train_x = train_x.fillna(0)\n",
    "test_x = test_x.fillna(0)\n",
    "X_train, X_test, y_train, y_test=train_test_split(train_x,train_y,test_size=0.3,random_state=seed_num)\n",
    "\n",
    "%matplotlib inline\n",
    "RF = RandomForestRegressor(random_state=0, max_depth=5, min_samples_leaf=8, min_samples_split=8,n_estimators=200)\n",
    "RF.fit(X_train, y_train)\n",
    "ftr_importances_values = RF.feature_importances_\n",
    "ftr_importances = pd.Series(ftr_importances_values, index=X_train.columns)\n",
    "ftr_top = ftr_importances.sort_values(ascending=False)[:20]\n",
    " \n",
    "plt.figure(figsize=(10, 10))\n",
    "sns.barplot(x=ftr_top, y=ftr_top.index)\n",
    "plt.show()      "
   ]
  },
  {
   "cell_type": "code",
   "execution_count": 7,
   "id": "GdugZkQrSvJS",
   "metadata": {
    "colab": {
     "base_uri": "https://localhost:8080/",
     "height": 393
    },
    "id": "GdugZkQrSvJS",
    "outputId": "5498c139-a40a-4930-b1f1-0bfe2c092486"
   },
   "outputs": [
    {
     "data": {
      "text/html": [
       "<div>\n",
       "<style scoped>\n",
       "    .dataframe tbody tr th:only-of-type {\n",
       "        vertical-align: middle;\n",
       "    }\n",
       "\n",
       "    .dataframe tbody tr th {\n",
       "        vertical-align: top;\n",
       "    }\n",
       "\n",
       "    .dataframe thead th {\n",
       "        text-align: right;\n",
       "    }\n",
       "</style>\n",
       "<table border=\"1\" class=\"dataframe\">\n",
       "  <thead>\n",
       "    <tr style=\"text-align: right;\">\n",
       "      <th></th>\n",
       "      <th>LINE</th>\n",
       "      <th>PRODUCT_CODE</th>\n",
       "      <th>X_1</th>\n",
       "      <th>X_2</th>\n",
       "      <th>X_3</th>\n",
       "      <th>X_4</th>\n",
       "      <th>X_5</th>\n",
       "      <th>X_6</th>\n",
       "      <th>X_7</th>\n",
       "      <th>X_8</th>\n",
       "      <th>...</th>\n",
       "      <th>X_3317</th>\n",
       "      <th>X_3318</th>\n",
       "      <th>X_3319</th>\n",
       "      <th>X_3320</th>\n",
       "      <th>X_3321</th>\n",
       "      <th>X_3322</th>\n",
       "      <th>X_3323</th>\n",
       "      <th>X_3324</th>\n",
       "      <th>X_3325</th>\n",
       "      <th>X_3326</th>\n",
       "    </tr>\n",
       "  </thead>\n",
       "  <tbody>\n",
       "    <tr>\n",
       "      <th>count</th>\n",
       "      <td>1132.000000</td>\n",
       "      <td>1132.000000</td>\n",
       "      <td>1132.000000</td>\n",
       "      <td>1132.000000</td>\n",
       "      <td>1132.0</td>\n",
       "      <td>1132.000000</td>\n",
       "      <td>1132.000000</td>\n",
       "      <td>1132.0</td>\n",
       "      <td>1132.000000</td>\n",
       "      <td>1132.000000</td>\n",
       "      <td>...</td>\n",
       "      <td>1.132000e+03</td>\n",
       "      <td>1.132000e+03</td>\n",
       "      <td>1132.000000</td>\n",
       "      <td>1132.000000</td>\n",
       "      <td>1132.000000</td>\n",
       "      <td>1132.000000</td>\n",
       "      <td>1.132000e+03</td>\n",
       "      <td>1.132000e+03</td>\n",
       "      <td>1132.000000</td>\n",
       "      <td>1132.000000</td>\n",
       "    </tr>\n",
       "    <tr>\n",
       "      <th>mean</th>\n",
       "      <td>3.738516</td>\n",
       "      <td>1.473498</td>\n",
       "      <td>2.039753</td>\n",
       "      <td>70.292403</td>\n",
       "      <td>0.0</td>\n",
       "      <td>33.317138</td>\n",
       "      <td>7.651060</td>\n",
       "      <td>0.0</td>\n",
       "      <td>35.968198</td>\n",
       "      <td>7.423145</td>\n",
       "      <td>...</td>\n",
       "      <td>9.889046e-07</td>\n",
       "      <td>4.956272e-07</td>\n",
       "      <td>0.025731</td>\n",
       "      <td>0.000003</td>\n",
       "      <td>0.000131</td>\n",
       "      <td>0.000004</td>\n",
       "      <td>4.280830e-07</td>\n",
       "      <td>2.921926e-07</td>\n",
       "      <td>0.025489</td>\n",
       "      <td>0.000002</td>\n",
       "    </tr>\n",
       "    <tr>\n",
       "      <th>std</th>\n",
       "      <td>1.488714</td>\n",
       "      <td>0.877161</td>\n",
       "      <td>7.968506</td>\n",
       "      <td>41.810847</td>\n",
       "      <td>0.0</td>\n",
       "      <td>19.743025</td>\n",
       "      <td>4.552005</td>\n",
       "      <td>0.0</td>\n",
       "      <td>21.583200</td>\n",
       "      <td>4.401020</td>\n",
       "      <td>...</td>\n",
       "      <td>2.535108e-06</td>\n",
       "      <td>1.284767e-06</td>\n",
       "      <td>0.065117</td>\n",
       "      <td>0.000008</td>\n",
       "      <td>0.000348</td>\n",
       "      <td>0.000012</td>\n",
       "      <td>1.144174e-06</td>\n",
       "      <td>7.785554e-07</td>\n",
       "      <td>0.064508</td>\n",
       "      <td>0.000007</td>\n",
       "    </tr>\n",
       "    <tr>\n",
       "      <th>min</th>\n",
       "      <td>0.000000</td>\n",
       "      <td>0.000000</td>\n",
       "      <td>0.000000</td>\n",
       "      <td>0.000000</td>\n",
       "      <td>0.0</td>\n",
       "      <td>0.000000</td>\n",
       "      <td>0.000000</td>\n",
       "      <td>0.0</td>\n",
       "      <td>0.000000</td>\n",
       "      <td>0.000000</td>\n",
       "      <td>...</td>\n",
       "      <td>0.000000e+00</td>\n",
       "      <td>0.000000e+00</td>\n",
       "      <td>0.000000</td>\n",
       "      <td>0.000000</td>\n",
       "      <td>0.000000</td>\n",
       "      <td>0.000000</td>\n",
       "      <td>0.000000e+00</td>\n",
       "      <td>0.000000e+00</td>\n",
       "      <td>0.000000</td>\n",
       "      <td>0.000000</td>\n",
       "    </tr>\n",
       "    <tr>\n",
       "      <th>25%</th>\n",
       "      <td>3.000000</td>\n",
       "      <td>0.000000</td>\n",
       "      <td>0.000000</td>\n",
       "      <td>0.000000</td>\n",
       "      <td>0.0</td>\n",
       "      <td>0.000000</td>\n",
       "      <td>0.000000</td>\n",
       "      <td>0.0</td>\n",
       "      <td>0.000000</td>\n",
       "      <td>0.000000</td>\n",
       "      <td>...</td>\n",
       "      <td>0.000000e+00</td>\n",
       "      <td>0.000000e+00</td>\n",
       "      <td>0.000000</td>\n",
       "      <td>0.000000</td>\n",
       "      <td>0.000000</td>\n",
       "      <td>0.000000</td>\n",
       "      <td>0.000000e+00</td>\n",
       "      <td>0.000000e+00</td>\n",
       "      <td>0.000000</td>\n",
       "      <td>0.000000</td>\n",
       "    </tr>\n",
       "    <tr>\n",
       "      <th>50%</th>\n",
       "      <td>4.000000</td>\n",
       "      <td>2.000000</td>\n",
       "      <td>2.000000</td>\n",
       "      <td>93.000000</td>\n",
       "      <td>0.0</td>\n",
       "      <td>45.000000</td>\n",
       "      <td>10.000000</td>\n",
       "      <td>0.0</td>\n",
       "      <td>45.000000</td>\n",
       "      <td>10.000000</td>\n",
       "      <td>...</td>\n",
       "      <td>0.000000e+00</td>\n",
       "      <td>0.000000e+00</td>\n",
       "      <td>0.000000</td>\n",
       "      <td>0.000000</td>\n",
       "      <td>0.000000</td>\n",
       "      <td>0.000000</td>\n",
       "      <td>0.000000e+00</td>\n",
       "      <td>0.000000e+00</td>\n",
       "      <td>0.000000</td>\n",
       "      <td>0.000000</td>\n",
       "    </tr>\n",
       "    <tr>\n",
       "      <th>75%</th>\n",
       "      <td>5.000000</td>\n",
       "      <td>2.000000</td>\n",
       "      <td>2.000000</td>\n",
       "      <td>96.000000</td>\n",
       "      <td>0.0</td>\n",
       "      <td>45.000000</td>\n",
       "      <td>10.000000</td>\n",
       "      <td>0.0</td>\n",
       "      <td>51.000000</td>\n",
       "      <td>10.000000</td>\n",
       "      <td>...</td>\n",
       "      <td>0.000000e+00</td>\n",
       "      <td>0.000000e+00</td>\n",
       "      <td>0.000000</td>\n",
       "      <td>0.000000</td>\n",
       "      <td>0.000000</td>\n",
       "      <td>0.000000</td>\n",
       "      <td>0.000000e+00</td>\n",
       "      <td>0.000000e+00</td>\n",
       "      <td>0.000000</td>\n",
       "      <td>0.000000</td>\n",
       "    </tr>\n",
       "    <tr>\n",
       "      <th>max</th>\n",
       "      <td>5.000000</td>\n",
       "      <td>2.000000</td>\n",
       "      <td>154.000000</td>\n",
       "      <td>102.000000</td>\n",
       "      <td>0.0</td>\n",
       "      <td>46.000000</td>\n",
       "      <td>11.000000</td>\n",
       "      <td>0.0</td>\n",
       "      <td>67.000000</td>\n",
       "      <td>11.000000</td>\n",
       "      <td>...</td>\n",
       "      <td>1.030000e-05</td>\n",
       "      <td>7.070000e-06</td>\n",
       "      <td>0.193656</td>\n",
       "      <td>0.000035</td>\n",
       "      <td>0.001310</td>\n",
       "      <td>0.000048</td>\n",
       "      <td>6.510000e-06</td>\n",
       "      <td>3.410000e-06</td>\n",
       "      <td>0.193000</td>\n",
       "      <td>0.000033</td>\n",
       "    </tr>\n",
       "  </tbody>\n",
       "</table>\n",
       "<p>8 rows × 3328 columns</p>\n",
       "</div>"
      ],
      "text/plain": [
       "              LINE  PRODUCT_CODE          X_1          X_2     X_3  \\\n",
       "count  1132.000000   1132.000000  1132.000000  1132.000000  1132.0   \n",
       "mean      3.738516      1.473498     2.039753    70.292403     0.0   \n",
       "std       1.488714      0.877161     7.968506    41.810847     0.0   \n",
       "min       0.000000      0.000000     0.000000     0.000000     0.0   \n",
       "25%       3.000000      0.000000     0.000000     0.000000     0.0   \n",
       "50%       4.000000      2.000000     2.000000    93.000000     0.0   \n",
       "75%       5.000000      2.000000     2.000000    96.000000     0.0   \n",
       "max       5.000000      2.000000   154.000000   102.000000     0.0   \n",
       "\n",
       "               X_4          X_5     X_6          X_7          X_8  ...  \\\n",
       "count  1132.000000  1132.000000  1132.0  1132.000000  1132.000000  ...   \n",
       "mean     33.317138     7.651060     0.0    35.968198     7.423145  ...   \n",
       "std      19.743025     4.552005     0.0    21.583200     4.401020  ...   \n",
       "min       0.000000     0.000000     0.0     0.000000     0.000000  ...   \n",
       "25%       0.000000     0.000000     0.0     0.000000     0.000000  ...   \n",
       "50%      45.000000    10.000000     0.0    45.000000    10.000000  ...   \n",
       "75%      45.000000    10.000000     0.0    51.000000    10.000000  ...   \n",
       "max      46.000000    11.000000     0.0    67.000000    11.000000  ...   \n",
       "\n",
       "             X_3317        X_3318       X_3319       X_3320       X_3321  \\\n",
       "count  1.132000e+03  1.132000e+03  1132.000000  1132.000000  1132.000000   \n",
       "mean   9.889046e-07  4.956272e-07     0.025731     0.000003     0.000131   \n",
       "std    2.535108e-06  1.284767e-06     0.065117     0.000008     0.000348   \n",
       "min    0.000000e+00  0.000000e+00     0.000000     0.000000     0.000000   \n",
       "25%    0.000000e+00  0.000000e+00     0.000000     0.000000     0.000000   \n",
       "50%    0.000000e+00  0.000000e+00     0.000000     0.000000     0.000000   \n",
       "75%    0.000000e+00  0.000000e+00     0.000000     0.000000     0.000000   \n",
       "max    1.030000e-05  7.070000e-06     0.193656     0.000035     0.001310   \n",
       "\n",
       "            X_3322        X_3323        X_3324       X_3325       X_3326  \n",
       "count  1132.000000  1.132000e+03  1.132000e+03  1132.000000  1132.000000  \n",
       "mean      0.000004  4.280830e-07  2.921926e-07     0.025489     0.000002  \n",
       "std       0.000012  1.144174e-06  7.785554e-07     0.064508     0.000007  \n",
       "min       0.000000  0.000000e+00  0.000000e+00     0.000000     0.000000  \n",
       "25%       0.000000  0.000000e+00  0.000000e+00     0.000000     0.000000  \n",
       "50%       0.000000  0.000000e+00  0.000000e+00     0.000000     0.000000  \n",
       "75%       0.000000  0.000000e+00  0.000000e+00     0.000000     0.000000  \n",
       "max       0.000048  6.510000e-06  3.410000e-06     0.193000     0.000033  \n",
       "\n",
       "[8 rows x 3328 columns]"
      ]
     },
     "execution_count": 7,
     "metadata": {},
     "output_type": "execute_result"
    }
   ],
   "source": [
    "# feature distribution \n",
    "train_x.describe()    "
   ]
  },
  {
   "cell_type": "code",
   "execution_count": 8,
   "id": "fceMKvgyg2Kg",
   "metadata": {
    "colab": {
     "base_uri": "https://localhost:8080/",
     "height": 297
    },
    "id": "fceMKvgyg2Kg",
    "outputId": "2448d8fa-5f45-4cf9-83b1-d5893da0bb19"
   },
   "outputs": [
    {
     "data": {
      "text/plain": [
       "<Axes: xlabel='X_376', ylabel='Count'>"
      ]
     },
     "execution_count": 8,
     "metadata": {},
     "output_type": "execute_result"
    },
    {
     "data": {
      "image/png": "[encoded data removed]",
      "text/plain": [
       "<Figure size 640x480 with 1 Axes>"
      ]
     },
     "metadata": {},
     "output_type": "display_data"
    }
   ],
   "source": [
    "# feature histogram with KDE (밀도그래프) \n",
    "# 임의의 feature에 대한 histplot + 밀도 곡선 출력\n",
    "num = random.randint(1,3326)\n",
    "sns.histplot(train_x[f'X_{num}'], kde=True)"
   ]
  },
  {
   "cell_type": "code",
   "execution_count": 9,
   "id": "xskVkfufSvDg",
   "metadata": {
    "colab": {
     "base_uri": "https://localhost:8080/",
     "height": 475
    },
    "id": "xskVkfufSvDg",
    "outputId": "6daf1349-65ca-4c16-aef0-f89c11d359e5"
   },
   "outputs": [
    {
     "data": {
      "image/png": "[encoded data removed]",
      "text/plain": [
       "<Figure size 1600x1200 with 20 Axes>"
      ]
     },
     "metadata": {},
     "output_type": "display_data"
    }
   ],
   "source": [
    "# visualize random 20 features distribution \n",
    "# imbalanced feature distribution (NO Gaussian distribution shape) --> MinMaxscaler\n",
    "fig, axes = plt.subplots(5,4,figsize=(16,12))\n",
    "ax= axes.flatten()\n",
    "\n",
    "for i in range(20): \n",
    "    num = random.randint(1,3326)\n",
    "    ax[i].hist(train_x[f'X_{num}']);    "
   ]
  },
  {
   "cell_type": "markdown",
   "id": "xuPOUxQ7Su9m",
   "metadata": {
    "id": "xuPOUxQ7Su9m"
   },
   "source": [
    "## 1.2 Preprocessing\n",
    "1. Label Encoding: categorical values `LINE`, `PRODUCT_CODE`\n",
    "2. Missing values: fillna(0) \n",
    "3. scaling: StandardScaler"
   ]
  },
  {
   "cell_type": "code",
   "execution_count": 10,
   "id": "kZ1PM_Zrtzph",
   "metadata": {
    "id": "kZ1PM_Zrtzph"
   },
   "outputs": [],
   "source": [
    "# 데이터 처리 - 예선\n",
    "\n",
    "# train_df = pd.read_csv('./train.csv')\n",
    "# test_df = pd.read_csv('./test.csv')\n",
    "# submit = pd.read_csv('./sample_submission.csv')\n",
    "\n",
    "# train_x = train_df.drop(columns=['PRODUCT_ID', 'TIMESTAMP', 'Y_Class','Y_Quality'])\n",
    "# train_y = train_df['Y_Class']\n",
    "# test_x = test_df.drop(columns=['PRODUCT_ID', 'TIMESTAMP'])   "
   ]
  },
  {
   "cell_type": "code",
   "execution_count": 11,
   "id": "3AbGp2rBuxuW",
   "metadata": {
    "id": "3AbGp2rBuxuW"
   },
   "outputs": [],
   "source": [
    "# 데이터 처리 - 본선\n",
    "# 1) qualitative to quantitative\n",
    "qual_col = ['LINE', 'PRODUCT_CODE']\n",
    "for i in qual_col:\n",
    "    le = LabelEncoder()    # one-hot encoding (X): get_dummies(test_df) is not allowed (data leakage)   \n",
    "    le = le.fit(train_x[i])\n",
    "    train_x[i] = le.transform(train_x[i])\n",
    "    for label in np.unique(test_x[i]): \n",
    "        if label not in le.classes_: \n",
    "            le.classes_ = np.append(le.classes_, label)\n",
    "    test_x[i] = le.transform(test_x[i]) \n"
   ]
  },
  {
   "cell_type": "code",
   "execution_count": 12,
   "id": "3d0cbadd-27ac-4508-8ef3-7e1724447a9c",
   "metadata": {
    "id": "3d0cbadd-27ac-4508-8ef3-7e1724447a9c"
   },
   "outputs": [],
   "source": [
    "# train에서 열의 유일한 값이 nan이거나 모두 같은 값인 경우 해당 열을 제외\n",
    "def remove_col(train_df):\n",
    "    for x in train_x.columns[6:]:\n",
    "        if train_x[x].nunique()==0 or len(train_x[x].unique())==1: # nan 이거나 모두 같은 값인 경우\n",
    "            train_x.drop(columns=[x], inplace=True) \n",
    "            test_x.drop(columns=[x], inplace=True)       \n",
    "    return train_df\n",
    "\n",
    "train = remove_col(train_df) "
   ]
  },
  {
   "cell_type": "code",
   "execution_count": 13,
   "id": "GZ72F04guy3o",
   "metadata": {
    "id": "GZ72F04guy3o"
   },
   "outputs": [],
   "source": [
    "# 2) Missing Values - fillna(0) - 더 나은 방법 존재.\n",
    "# train_x = train_x.fillna(0)\n",
    "# test_x = test_x.fillna(0)\n",
    "\n",
    "# 3) MinMaxscaling: only `X_???` values (continuous)\n",
    "# Xs = train_x.select_dtypes(include=float).iloc[:,1:].columns.tolist()\n",
    "# scaler = MinMaxScaler().fit(train_x.loc[:, Xs])\n",
    "# train_x.loc[:, Xs] = scaler.transform(train_x.loc[:, Xs])\n",
    "# test_x.loc[:, Xs] = scaler.transform(test_x.loc[:, Xs])"
   ]
  },
  {
   "cell_type": "code",
   "execution_count": 14,
   "id": "c66d3bf4",
   "metadata": {
    "id": "c66d3bf4"
   },
   "outputs": [],
   "source": [
    "# KNN Imputer \n",
    "from sklearn.impute import KNNImputer\n",
    "\n",
    "# Impute missing values using KNN imputer on train data\n",
    "imputer = KNNImputer(n_neighbors=5)   # n_neighbors: params\n",
    "imputer.fit(train_x)\n",
    "                                 \n",
    "train_x = imputer.transform(train_x)    \n",
    "test_x = imputer.transform(test_x) \n",
    "train_x = pd.DataFrame(train_x)\n",
    "test_x = pd.DataFrame(test_x)\n",
    "train_x.head()\n",
    "\n",
    "X_train, X_test, y_train, y_test=train_test_split(train_x,train_y,test_size=0.3,random_state=seed_num)"
   ]
  },
  {
   "cell_type": "code",
   "execution_count": 15,
   "id": "a06e13eb-9e6f-4f75-8d9a-ec5ab10f076b",
   "metadata": {
    "colab": {
     "base_uri": "https://localhost:8080/"
    },
    "id": "a06e13eb-9e6f-4f75-8d9a-ec5ab10f076b",
    "outputId": "f5d25b5b-5c0b-4aa4-82f7-866898d94871",
    "tags": []
   },
   "outputs": [
    {
     "name": "stdout",
     "output_type": "stream",
     "text": [
      "(1132, 3035)\n"
     ]
    }
   ],
   "source": [
    "print(train_x.shape)"
   ]
  },
  {
   "cell_type": "markdown",
   "id": "hIoaatyGu9Zq",
   "metadata": {
    "id": "hIoaatyGu9Zq"
   },
   "source": [
    "# 2.Modeling"
   ]
  },
  {
   "cell_type": "markdown",
   "id": "GQGMvepMJy87",
   "metadata": {
    "id": "GQGMvepMJy87"
   },
   "source": [
    "## 2.1 ML models\n",
    "- 여러 Machine Learning Classifier 모델들의 test set Accuracy score 도출 \n",
    "    - Ensemble에서 각 모델의 weight(가중치) 정하기 위한 근거로 사용하기 위함\n",
    "1. RandomForestClassifier\n",
    "2. GradientboostingClassiifer\n",
    "3. XGBClassifier\n",
    "4. LGBMClassifier\n",
    "5. CatboostClassifier\n",
    "6. RidgeClassifier\n",
    "7. BaggingClassifier"
   ]
  },
  {
   "cell_type": "code",
   "execution_count": 16,
   "id": "m61QOAHA8lvG",
   "metadata": {
    "id": "m61QOAHA8lvG"
   },
   "outputs": [],
   "source": [
    "from catboost import CatBoostClassifier\n",
    "from sklearn.ensemble import GradientBoostingClassifier\n",
    "from sklearn.ensemble import StackingClassifier\n",
    "from sklearn.linear_model import LogisticRegression\n",
    "from sklearn.ensemble import RandomForestClassifier\n",
    "\n",
    "models = [\n",
    "    RandomForestClassifier(random_state=seed_num), \n",
    "    GradientBoostingClassifier(random_state=seed_num),      \n",
    "    XGBClassifier(random_state=seed_num),\n",
    "    LGBMClassifier(objective='multiclass', random_state=seed_num),\n",
    "    CatBoostClassifier(objective='MultiClass',\n",
    "                                   task_type='GPU',\n",
    "                                   one_hot_max_size=2, random_seed=seed_num,\n",
    "                                   iterations=4000, verbose=False,\n",
    "                                   learning_rate=0.05\n",
    "                                   ),\n",
    "    RidgeClassifierCV(),  # RidgeClassifier: no seed setting argument  \n",
    "    BaggingClassifier(random_state=seed_num)]"
   ]
  },
  {
   "cell_type": "code",
   "execution_count": 17,
   "id": "qfV3aJaS8lvI",
   "metadata": {
    "id": "qfV3aJaS8lvI"
   },
   "outputs": [
    {
     "name": "stdout",
     "output_type": "stream",
     "text": [
      "{'RF': 0.7411764705882353, 'GBC': 0.7647058823529411, 'XGB': 0.7558823529411764, 'LGBM': 0.7705882352941177, 'Catboost': 0.7617647058823529, 'Ridge': 0.27647058823529413, 'Bagging': 0.7411764705882353}\n"
     ]
    }
   ],
   "source": [
    "# find weights for each model \n",
    "model_list = ['RF', 'GBC', 'XGB', 'LGBM', 'Catboost', 'Ridge', 'Bagging']\n",
    "i=0\n",
    "model_acc = {}\n",
    "\n",
    "for model in models:  \n",
    "    if i == 4: \n",
    "        preds = model.fit(X_train, y_train).predict(X_test)\n",
    "        preds = preds.reshape(1,340)\n",
    "        preds = list(preds[0])\n",
    "    else: \n",
    "        preds = model.fit(X_train, y_train).predict(X_test)\n",
    "\n",
    "    globals()[f'preds_{model_list[i]}'] = preds   # set variable name for each model prediction results  \n",
    "  \n",
    "    score = sklearn.metrics.accuracy_score(y_test, preds)\n",
    "    model_acc[model_list[i]] = score\n",
    "    i += 1   \n",
    "\n",
    "print(model_acc)   "
   ]
  },
  {
   "cell_type": "code",
   "execution_count": 18,
   "id": "PihsvBmKhfOd",
   "metadata": {
    "id": "PihsvBmKhfOd"
   },
   "outputs": [
    {
     "data": {
      "image/png": "[encoded data removed]",
      "text/plain": [
       "<Figure size 1400x800 with 1 Axes>"
      ]
     },
     "metadata": {},
     "output_type": "display_data"
    }
   ],
   "source": [
    "# ML models accuracy comparison plot \n",
    "model_name = list(model_acc.keys())\n",
    "model_acc = list(model_acc.values())\n",
    "acc_dic = {'model': model_name, 'acc': model_acc}\n",
    "acc_df = pd.DataFrame(acc_dic)\n",
    "acc_df = acc_df.set_index('model')\n",
    "\n",
    "acc_df.plot(kind='barh', figsize=(14,8),\n",
    "            title='Model Comparison - accuracy score');"
   ]
  },
  {
   "cell_type": "markdown",
   "id": "_KIk0bpq4IHj",
   "metadata": {
    "id": "_KIk0bpq4IHj"
   },
   "source": [
    "## 2.2 Sequential MLP \n",
    "* Deep Learning Modeling: Sequential MLP model"
   ]
  },
  {
   "cell_type": "code",
   "execution_count": 19,
   "id": "8wlnknVPi0NX",
   "metadata": {
    "id": "8wlnknVPi0NX"
   },
   "outputs": [],
   "source": [
    "import torch.nn as nn \n",
    "import torch.nn.functional as F \n",
    "\n",
    "class MultilayerPerceptron(nn.Module):\n",
    "    def __init__(self, input_dim, hidden_dim1, hidden_dim2, output_dim):\n",
    "        \"\"\"\n",
    "        parameters: \n",
    "            input_dim (int): 입력 벡터 크기\n",
    "            hidden_dim1 (int): 첫 번째 Linear 층의 출력 크기\n",
    "            hidden_dim2 (int): 두 번째 Linear 층의 출력 크기 \n",
    "            output_dim (int): 세 번째 Linear 층의 출력 크기 \n",
    "        \"\"\"\n",
    "        super(MultilayerPerceptron, self).__init__()\n",
    "        self.fc1 = nn.Linear(input_dim, hidden_dim1)\n",
    "        self.fc2 = nn.Linear(hidden_dim1, hidden_dim2)\n",
    "       # self.fc3 = nn.Linear(hidden_dim2, hidden_dim3)\n",
    "        self.fc4 = nn.Linear(hidden_dim2, output_dim)\n",
    "\n",
    "    def forward(self, x_in, apply_softmax=False):\n",
    "        \"\"\"\n",
    "        MLP의 정방향 계산 \n",
    "\n",
    "        parameters:\n",
    "            x_in (torch.Tensor): 입력 데이터 텐서\n",
    "                x_in.shape는 (batch, input_dim)\n",
    "            apply_softmax (multiclasses): softmax activation function \n",
    "        return: \n",
    "            result Tensor\n",
    "            tesnor.shape: (batch, output_dim)\n",
    "        \"\"\"\n",
    "        intermediate1 = F.relu(self.fc1(x_in))   # activation function\n",
    "        intermediate2 = F.relu(self.fc2(intermediate1))   # activation function\n",
    "       # intermediate3 = F.relu(self.fc3(intermediate2))   # activation function\n",
    "        output = self.fc4(intermediate2)    \n",
    "\n",
    "\n",
    "        if apply_softmax: \n",
    "            output = F.softmax(output, dim=1)   # output layer: softmax activation function\n",
    "        return output "
   ]
  },
  {
   "cell_type": "code",
   "execution_count": 20,
   "id": "Fp5qXV02kPeC",
   "metadata": {
    "colab": {
     "base_uri": "https://localhost:8080/"
    },
    "id": "Fp5qXV02kPeC",
    "outputId": "289fa6a6-984f-407e-88ec-4dff0dfc5993"
   },
   "outputs": [
    {
     "name": "stdout",
     "output_type": "stream",
     "text": [
      "MultilayerPerceptron(\n",
      "  (fc1): Linear(in_features=3035, out_features=1024, bias=True)\n",
      "  (fc2): Linear(in_features=1024, out_features=512, bias=True)\n",
      "  (fc4): Linear(in_features=512, out_features=3, bias=True)\n",
      ")\n",
      "Type: torch.FloatTensor\n",
      "shape: torch.Size([256, 3])\n"
     ]
    }
   ],
   "source": [
    "def describe(x): \n",
    "    print(f'Type: {x.type()}')\n",
    "    print(f'shape: {x.shape}')\n",
    "    # print(f'value: {x}') \n",
    "\n",
    "#2차원 데이터이므로 복잡하지 않게 은닉층 2개 사용.\n",
    "\n",
    "batch_size = 256 \n",
    "input_dim = train_x.shape[-1]\n",
    "hidden_dim1 = 1024\n",
    "hidden_dim2 = 512\n",
    "output_dim = 3 \n",
    "\n",
    "# model design \n",
    "mlp = MultilayerPerceptron(input_dim, hidden_dim1, hidden_dim2, output_dim)\n",
    "print(mlp)\n",
    "x_input = torch.rand(batch_size, input_dim)\n",
    "y_output = mlp(x_input, apply_softmax=True)  # result: probabilities format \n",
    "a = y_output\n",
    "describe(y_output)"
   ]
  },
  {
   "cell_type": "code",
   "execution_count": 21,
   "id": "FLHA36Z1iEhW",
   "metadata": {
    "colab": {
     "base_uri": "https://localhost:8080/",
     "height": 265
    },
    "id": "FLHA36Z1iEhW",
    "outputId": "ded4ad08-6741-47e2-add5-c49a1a1a3c1b"
   },
   "outputs": [
    {
     "data": {
      "image/png": "[encoded data removed]",
      "text/plain": [
       "<Figure size 640x480 with 1 Axes>"
      ]
     },
     "metadata": {},
     "output_type": "display_data"
    }
   ],
   "source": [
    "prediction=[]\n",
    "\n",
    "for i in a: \n",
    "    i = list(i)\n",
    "    prediction.append(i.index(max(i)))\n",
    "\n",
    "sns.countplot(x=prediction);    "
   ]
  },
  {
   "cell_type": "markdown",
   "id": "7f3d392b",
   "metadata": {
    "id": "7f3d392b"
   },
   "source": [
    "# 3.Params Optimization\n",
    "\n",
    "사용하고자 했던 전략\n",
    "1. GridSearch\n",
    "2. Optuna"
   ]
  },
  {
   "cell_type": "markdown",
   "id": "5ee4390b",
   "metadata": {
    "id": "5ee4390b"
   },
   "source": [
    "## 3.1 Light Gradient Boosting\n",
    "1. Optuna\n",
    "    - hyperparameters auto optimization"
   ]
  },
  {
   "cell_type": "code",
   "execution_count": 22,
   "id": "29dc0524",
   "metadata": {
    "id": "29dc0524"
   },
   "outputs": [],
   "source": [
    "# def objective(trial, X, y, cv, scoring):\n",
    "#     params = {\n",
    "#         'lambda_l1' : trial.suggest_loguniform('lambda_l1', 1e-8, 1e-1),\n",
    "#         'lambda_l2' : trial.suggest_loguniform('lambda_l2', 1e-8, 1e-1),\n",
    "#         'path_smooth' : trial.suggest_loguniform('path_smooth', 1e-8, 1e-3),\n",
    "#         'num_leaves' : trial.suggest_int('num_leaves', 30, 200),\n",
    "#         'min_data_in_leaf': trial.suggest_int('min_data_in_leaf', 10, 100),\n",
    "#         'max_bin' : trial.suggest_int('max_bin', 100, 255),\n",
    "#         'feature_fraction' : trial.suggest_uniform('feature_fraction', 0.5, 0.9),\n",
    "#         'bagging_fraction' : trial.suggest_uniform('bagging_fraction', 0.5, 0.9),\n",
    "#     }\n",
    "#   # Perform cross validation\n",
    "#   # gb_class = GradientBoostingClassifier(**params)\n",
    "#     lgbm_class = LGBMClassifier(**params)\n",
    "\n",
    "#   # Compute scores\n",
    "#     scores = cross_validate(lgbm_class, X, y, cv = cv, scoring = scoring, n_jobs = -1)\n",
    "#     accuracy = scores[\"test_score\"].mean()\n",
    "#     return accuracy"
   ]
  },
  {
   "cell_type": "markdown",
   "id": "0c65d30f",
   "metadata": {
    "id": "0c65d30f"
   },
   "source": [
    "- Optimization for params\n",
    "\n",
    "    - K-Fold, trials = 10"
   ]
  },
  {
   "cell_type": "code",
   "execution_count": 23,
   "id": "4d11262c",
   "metadata": {
    "id": "4d11262c"
   },
   "outputs": [],
   "source": [
    "# sampler = optuna.samplers.TPESampler(seed=10, gpu_properties={'device_id': 0})\n",
    "# study = optuna.create_study(direction = \"maximize\")\n",
    "# study.set_user_attr(\"verbose\", True)\n",
    "\n",
    "# kf = sklearn.model_selection.StratifiedKFold(n_splits=5, shuffle=True, random_state=37)\n",
    "\n",
    "# func = lambda trial: objective(trial, X_train, y_train, cv = kf, scoring = \"accuracy\")\n",
    "\n",
    "# # # %%time\n",
    "# # # Start optimizing with 100 trials\n",
    "# study.optimize(func, n_trials = 10,n_jobs=-1)\n",
    "\n",
    "# print(f\"The highest accuracy reached by this study: {(study.best_value) * 100}%.\")\n",
    "# print(\"Best params:\")\n",
    "# for key, value in study.best_params.items():\n",
    "#     print(f\"\\t{key}: {value}\")    "
   ]
  },
  {
   "cell_type": "code",
   "execution_count": 24,
   "id": "7d5b7e95",
   "metadata": {
    "colab": {
     "base_uri": "https://localhost:8080/"
    },
    "id": "7d5b7e95",
    "outputId": "5e58d625-b5ad-4c4c-82a8-7413a132c27e"
   },
   "outputs": [
    {
     "name": "stdout",
     "output_type": "stream",
     "text": [
      "[LightGBM] [Warning] feature_fraction is set=0.6536282159518209, colsample_bytree=1.0 will be ignored. Current value: feature_fraction=0.6536282159518209\n",
      "[LightGBM] [Warning] bagging_fraction is set=0.7302696718518357, subsample=1.0 will be ignored. Current value: bagging_fraction=0.7302696718518357\n",
      "[LightGBM] [Warning] lambda_l1 is set=0.00048021471491299205, reg_alpha=0.0 will be ignored. Current value: lambda_l1=0.00048021471491299205\n",
      "[LightGBM] [Warning] min_data_in_leaf is set=16, min_child_samples=20 will be ignored. Current value: min_data_in_leaf=16\n",
      "[LightGBM] [Warning] lambda_l2 is set=0.021386150387940235, reg_lambda=0.0 will be ignored. Current value: lambda_l2=0.021386150387940235\n",
      "              precision    recall  f1-score   support\n",
      "\n",
      "           0       0.79      0.36      0.49        53\n",
      "           1       0.76      0.95      0.84       227\n",
      "           2       0.74      0.42      0.53        60\n",
      "\n",
      "    accuracy                           0.76       340\n",
      "   macro avg       0.76      0.57      0.62       340\n",
      "weighted avg       0.76      0.76      0.73       340\n",
      "\n",
      "\n",
      " LGBM acc(Optuna) :  0.7617647058823529\n"
     ]
    }
   ],
   "source": [
    "import imblearn\n",
    "\n",
    "#위의 Optuna 방법을 통해 알아낸 hyper Parameter 고정.\n",
    "#best_value로 정하지만 계속 훈련시키기엔 시간이 오래걸려 고정\n",
    "\n",
    "params= {'lambda_l1': 0.00048021471491299205,'lambda_l2': 0.021386150387940235,\n",
    "         'path_smooth': 4.976692465226837e-07,'num_leaves': 83,\n",
    "         'min_data_in_leaf': 16,'max_bin': 219,\n",
    "         'feature_fraction': 0.6536282159518209,'bagging_fraction': 0.7302696718518357,}\n",
    "\n",
    "LGBM =  LGBMClassifier(random_state=37, **params,).fit(X_train, y_train)\n",
    "lgbm_preds = LGBM.predict(X_test)\n",
    "\n",
    "print(classification_report(y_test, lgbm_preds))\n",
    "print(\"\\n LGBM acc(Optuna) : \", accuracy_score(y_test, lgbm_preds))"
   ]
  },
  {
   "cell_type": "code",
   "execution_count": 25,
   "id": "8f76630f",
   "metadata": {
    "id": "8f76630f"
   },
   "outputs": [],
   "source": [
    "from optuna.visualization import plot_optimization_history\n",
    "from optuna.visualization import plot_param_importances\n",
    "from optuna.visualization import plot_parallel_coordinate\n",
    "from optuna.visualization import plot_contour"
   ]
  },
  {
   "cell_type": "code",
   "execution_count": 26,
   "id": "cb1b92aa-f79b-4f61-ab35-6ec4270a07e8",
   "metadata": {},
   "outputs": [],
   "source": [
    "# RandomForest Classifier의 하이퍼 파라미터를 Grid Search를 통해 찾아낸 후 고정.\n",
    "#\n",
    "# param_grid = {\n",
    "#     'n_estimators': [100, 200, 300],\n",
    "#     'criterion': ['gini', 'entropy'],\n",
    "#     'max_depth': [10, 20, None],\n",
    "#     'min_samples_split': [2, 5, 10],\n",
    "#     'min_samples_leaf': [1, 2, 4],\n",
    "#     'max_features': ['auto', 'sqrt'],\n",
    "#     'bootstrap': [True, False],\n",
    "#     'random_state': [42]\n",
    "# }\n",
    "\n",
    "# # 랜덤 포레스트 분류기 생성\n",
    "# RFCC = RandomForestClassifier()\n",
    "\n",
    "# # 그리드 서치 객체 생성\n",
    "# rf_grid_search = GridSearchCV(\n",
    "#     estimator=RFCC,\n",
    "#     param_grid=param_grid,\n",
    "#     cv=5,\n",
    "#     n_jobs=-1,\n",
    "#     verbose=2\n",
    "# )\n",
    "\n",
    "# # 그리드 서치 수행\n",
    "# rf_grid_search.fit(X_train, y_train)\n",
    "\n",
    "# # 최적의 하이퍼 파라미터 출력\n",
    "# print('Best parameters:', rf_grid_search.best_params_)"
   ]
  },
  {
   "cell_type": "markdown",
   "id": "86ca94b0-0913-4860-9f84-654e61ec092a",
   "metadata": {},
   "source": [
    "## 3.2 Random Forest\n",
    "1. Grid Search\n",
    "    - Search from Scale"
   ]
  },
  {
   "cell_type": "code",
   "execution_count": 28,
   "id": "9b95ea12-6fbe-4748-87fe-5e7c323218bd",
   "metadata": {
    "colab": {
     "base_uri": "https://localhost:8080/"
    },
    "id": "9b95ea12-6fbe-4748-87fe-5e7c323218bd",
    "outputId": "2ee5f90c-6bad-4569-83bf-970e359ea4ed"
   },
   "outputs": [
    {
     "name": "stdout",
     "output_type": "stream",
     "text": [
      "RF acc(Grid Search):  0.7470588235294118\n"
     ]
    }
   ],
   "source": [
    "RF=RandomForestClassifier(bootstrap=False, criterion='entropy', \n",
    "                          max_depth=None, max_features='sqrt', \n",
    "                          min_samples_leaf=4, min_samples_split=10, \n",
    "                          n_estimators=300, random_state=42).fit(X_train,y_train)\n",
    "rf_preds=RF.predict(X_test)\n",
    "print(\"RF acc(Grid Search): \",accuracy_score(y_test, rf_preds))\n",
    "\n",
    "# Optuna로 얻은 RandomForest Classifier의 하이퍼파라미터\n",
    "# max_depth= int(17.53243068297166), n_estimators=10,random_state=seed_num"
   ]
  },
  {
   "cell_type": "code",
   "execution_count": 29,
   "id": "HKgV8Eb5UdBf",
   "metadata": {
    "colab": {
     "base_uri": "https://localhost:8080/",
     "height": 1000
    },
    "id": "HKgV8Eb5UdBf",
    "outputId": "6a171bf4-474e-4655-9cb1-fe90d5596e4d"
   },
   "outputs": [],
   "source": [
    "#Optuna로 RandomForest Classifier 하이퍼 파라미터 튜닝.\n",
    "\n",
    "# from sklearn.model_selection import cross_val_score\n",
    "# # Change following line to range(NFOLDS) to run & find best params.\n",
    "# # for fold_id in range(5, 5):\n",
    "# #     print('========== Processing fold', fold_id, '==========')\n",
    "\n",
    "# import optuna\n",
    "\n",
    "# # 1. 최소화/최대화할 목적함수 정의\n",
    "# def objective(trial):\n",
    "\n",
    "# # 2. trial object로 하이퍼파라미터 값 추천\n",
    "# # 다양한 분류모델을 설정해서 비교할 수 있다.\n",
    "#     classifier_name = trial.suggest_categorical('classifier', ['RandomForest'])\n",
    "#     # #분류 모델이 SVC일 때\n",
    "#     # if classifier_name == 'SVC':\n",
    "#     #     svc_c = trial.suggest_loguniform('svc_c', 1e-10, 1e10)\n",
    "#     #     classifier_obj = sklearn.svm.SVC(C=svc_c, gamma='auto')\n",
    "    \n",
    "#     #분류모델이 랜덤포레스트일 때\n",
    "#     # else:\n",
    "#     # rf_max_depth = int(trial.suggest_loguniform('rf_max_depth', 2, 32))\n",
    "#     # tfidf__analyzer = trial.suggest_categorical('tfidf__analyzer', ['word', 'char', 'char_wb']) \n",
    "#     # tfidf__lowercase = trial.suggest_categorical('tfidf__lowercase', [False, True]) \n",
    "#     tfidf__max_features = trial.suggest_int('tfidf__max_features', 500, 10_000) \n",
    "#     rf__n_estimators = trial.suggest_int('rf__num_estimators', 300, 500) \n",
    "#     rf__max_depth = trial.suggest_int('rf__max_depth', 5, 15) \n",
    "#     rf__min_samples_split = trial.suggest_int('rf__min_samples_split', 10, 30) \n",
    "    \n",
    "\n",
    "#     classifier_obj = sklearn.ensemble.RandomForestClassifier(max_depth=rf__max_depth, \n",
    "#                                                              n_estimators=rf__n_estimators,\n",
    "#                                                              max_features=tfidf__max_features,\n",
    "#                                                              min_samples_split = rf__min_samples_split)\n",
    "    \n",
    "#     accuracy = cross_val_score(classifier_obj, train_x, train_y, cv = 5).mean()\n",
    "#     return accuracy\n",
    "    \n",
    "# # 3. study 오브젝트 생성하고 목적함수 최적화하는 단계\n",
    "# # 여기서는 목적함수를 정확도로 설정했기 때문에 최대화를 목표로 하고 있지만, 손실함수의 경우 direction='minimize'로 설정\n",
    "# study = optuna.create_study(direction='maximize')\n",
    "# # 반복 시행 횟수(trial)는 200번으로\n",
    "# study.optimize(objective, n_trials=200)\n",
    "\n",
    "# # Trial 42 finished with value: 0.7667966161163308 and parameters: {'classifier': 'RandomForest', 'rf_max_depth': 17.53243068297166}. "
   ]
  },
  {
   "cell_type": "code",
   "execution_count": 30,
   "id": "OoJiaTLoRp9a",
   "metadata": {
    "colab": {
     "base_uri": "https://localhost:8080/",
     "height": 765
    },
    "id": "OoJiaTLoRp9a",
    "outputId": "1bbe0928-35d4-40fc-b44a-07cec1b5f914"
   },
   "outputs": [],
   "source": [
    "# import joblib \n",
    "# from sklearn.pipeline import Pipeline\n",
    "\n",
    "# model = Pipeline([('rf', RandomForestClassifier)])\n",
    "# def objective(trial):    \n",
    "    \n",
    "#     joblib.dump(study, 'study.pkl')\n",
    "    \n",
    "#     tfidf__analyzer = trial.suggest_categorical('tfidf__analyzer', ['word', 'char', 'char_wb']) \n",
    "#     tfidf__lowercase = trial.suggest_categorical('tfidf__lowercase', [False, True]) \n",
    "#     tfidf__max_features = trial.suggest_int('tfidf__max_features', 500, 10_000) \n",
    "#     rf__n_estimators = trial.suggest_int('rf__num_estimators', 300, 500) \n",
    "#     rf__max_depth = trial.suggest_int('rf__max_depth', 5, 15) \n",
    "#     rf__min_samples_split = trial.suggest_int('rf__min_samples_split', 10, 30) \n",
    "    \n",
    "   \n",
    "    \n",
    "\n",
    "#     params = {\n",
    "#         'tfidf__analyzer': tfidf__analyzer,\n",
    "#         'tfidf__lowercase': tfidf__lowercase,\n",
    "#         'tfidf__max_features': tfidf__max_features,\n",
    "#         'rf__n_estimators': rf__n_estimators,\n",
    "#         'rf__max_depth': rf__max_depth,\n",
    "#         'rf__min_samples_split': rf__min_samples_split,\n",
    "       \n",
    "#     }\n",
    "    \n",
    "#     model.set_params(**params)   \n",
    "\n",
    "#     return  -np.mean(cross_val_score(model, X, y, cv=3, n_jobs=-1,scoring='neg_log_loss'))\n",
    "\n",
    "# # by default, the direction is to minimizae, but can set it to maximize too\n",
    "# #study = optuna.create_study(direction='minimize')\n",
    "# study = optuna.create_study()\n",
    "\n",
    "\n",
    "# #study.optimize(objective, timeout=3600)\n",
    "# study.optimize(objective, n_trials=20)\n",
    "\n",
    "\n",
    "# # to record the value for the last time\n",
    "# joblib.dump(study, 'study.pkl')"
   ]
  },
  {
   "cell_type": "markdown",
   "id": "-V0IZDs6_S3f",
   "metadata": {
    "id": "-V0IZDs6_S3f"
   },
   "source": [
    "## 3.3 CatBoost\n",
    "1. optuna \n",
    "    - hyperparameters auto optimization\n",
    "    - 시간 issue로 실패"
   ]
  },
  {
   "cell_type": "code",
   "execution_count": 31,
   "id": "c5f54098-47e8-4a89-b058-81860acc8f4d",
   "metadata": {
    "id": "c5f54098-47e8-4a89-b058-81860acc8f4d"
   },
   "outputs": [],
   "source": [
    "# CBC = CatBoostClassifier(task_type='GPU', border_count=None)\n",
    "# params_grid = {'iterations': [600, 700, 800, 900, 1000],\n",
    "#                'depth': [4, 5, 6],\n",
    "#                'loss_function': ['MultiClass'],\n",
    "#                'l2_leaf_reg': np.logspace(-20, -19, 3),\n",
    "#                'leaf_estimation_iterations': [10],\n",
    "#                'eval_metric': ['Accuracy'],\n",
    "#                'logging_level':['Silent'],\n",
    "#                'random_seed': [42]}\n"
   ]
  },
  {
   "cell_type": "code",
   "execution_count": 32,
   "id": "f34d37d8",
   "metadata": {
    "id": "f34d37d8"
   },
   "outputs": [],
   "source": [
    "# from sklearn.model_selection import GridSearchCV\n",
    "\n",
    "# estimator = GradientBoostingClassifier(random_state = 37)\n",
    "\n",
    "# param_grid = {\n",
    "#             'n_estimators' : [n_estimators for n_estimators in range(100, 5000, 100)],\n",
    "#             'learning_rate' : [lr * 0.0001 for lr in range(1, 10)],\n",
    "#             'max_depth' : [depth for depth in range(3, 9)],\n",
    "#             'subsample' : [subsample * 0.1 for subsample in range(5, 9, 1)],\n",
    "#             'max_features' : ['auto', 'sqrt', 'log2']\n",
    "#             }\n",
    "\n",
    "# # scoring = 'r2' -> 결정계수로 scoring\n",
    "# grid_GBC = GridSearchCV(estimator, param_grid, scoring = 'r2', n_jobs = -1)\n",
    "# grid_GBC.fit(train_x, train_y)\n",
    "\n",
    "# print('best estimator model: \\n{}'.format(grid_GBC.best_estimator_))\n",
    "# print('\\nbest parameter: \\n{}'.format(grid_GBC.best_params_))\n",
    "# print(\"\\nbest score: \\n{}\".format(grid_GBC.best_score_.round(3)))"
   ]
  },
  {
   "cell_type": "code",
   "execution_count": 33,
   "id": "7f8add53",
   "metadata": {
    "id": "7f8add53"
   },
   "outputs": [],
   "source": [
    "# # GridSearch best parameter \n",
    "# import imblearn\n",
    "\n",
    "# params= {'n_estimators': 1200, 'learning_rate': 0.009147154102399788, \\\n",
    "#         'max_depth': 9, 'subsample': 0.8, 'max_features': 'auto'}\n",
    "# GBC =  GradientBoostingClassifier(random_state=37, **params,                              \n",
    "#                                   ).fit(X_train, y_train)\n",
    "# preds = GBC.predict(X_test)\n",
    "\n",
    "# print(classification_report(y_test, preds))\n",
    "# print(\"\\n Grid : \", accuracy_score(y_test, preds))"
   ]
  },
  {
   "cell_type": "code",
   "execution_count": 34,
   "id": "4ea05433",
   "metadata": {
    "id": "4ea05433"
   },
   "outputs": [],
   "source": [
    "# def objective(trial):\n",
    "#     params = {\n",
    "#         \"iterations\": 1000,\n",
    "#         \"learning_rate\": trial.suggest_loguniform(\"learning_rate\", 0.001, 0.1),\n",
    "#         \"depth\": trial.suggest_int(\"depth\", 1, 10),\n",
    "#         \"l2_leaf_reg\": trial.suggest_loguniform(\"l2_leaf_reg\", 1e-8, 10),\n",
    "#         \"random_seed\": 42,\n",
    "#         \"eval_metric\": \"Accuracy\",\n",
    "#         \"od_type\": \"Iter\",\n",
    "#         \"od_wait\": 100,\n",
    "#         \"verbose\": 1\n",
    "#     }    \n",
    "\n",
    "\n",
    "#     # iterations=trial.suggest_int(\"iterations\", 100, 1000),\n",
    "#     #     learning_rate=trial.suggest_float(\"learning_rate\", 1e-3, 1e-1, log=True),\n",
    "#     #     depth=trial.suggest_int(\"depth\", 4, 10),\n",
    "#     #     l2_leaf_reg=trial.suggest_float(\"l2_leaf_reg\", 1e-8, 100.0, log=True),\n",
    "#     #     bootstrap_type=trial.suggest_categorical(\"bootstrap_type\", [\"Bayesian\"]),\n",
    "#     #     random_strength=trial.suggest_float(\"random_strength\", 1e-8, 10.0, log=True),\n",
    "#     #     bagging_temperature=trial.suggest_float(\"bagging_temperature\", 0.0, 10.0),\n",
    "#     #     od_type=trial.suggest_categorical(\"od_type\", [\"IncToDec\", \"Iter\"]),\n",
    "#     #     od_wait=trial.suggest_int(\"od_wait\", 10, 50),\n",
    "#     #     verbose=False\n",
    "#     model=CatBoostClassifier(**params)\n",
    "#     model.fit(X_train, y_train)\n",
    "#     y_pred = model.predict(X_test)\n",
    "#     return f1_score(y_test, y_pred, average='macro')\n",
    "     \n",
    "# # # hyper-parameter tuning with OPTUNA  \n",
    "# optuna.logging.set_verbosity(optuna.logging.WARNING)\n",
    "\n",
    "# sampler = TPESampler(seed=37)\n",
    "# study = optuna.create_study(study_name=\"catboost\", direction=\"maximize\", sampler=sampler)\n",
    "# study.set_user_attr(\"verbose\", 1)\n",
    "# study.optimize(objective, n_trials=0,n_jobs=-1)  "
   ]
  },
  {
   "cell_type": "code",
   "execution_count": 35,
   "id": "a8ffdb51",
   "metadata": {
    "id": "a8ffdb51"
   },
   "outputs": [],
   "source": [
    "# print(\"Number of trials: \", len(study.trials))\n",
    "# print(\"Best trial:\")\n",
    "# trial = study.best_trial\n",
    "# print(\"  Value: \", trial.value)\n",
    "# print(\"  Params: \",trial.params)\n",
    "\n",
    "# CBC_model = CatBoostClassifier(**trial.params, verbose=False, random_state = 37)\n",
    "# CBC_model.fit(X_train, y_train,verbose=1)\n",
    "# y_pred = model.predict(X_test)\n"
   ]
  },
  {
   "cell_type": "code",
   "execution_count": 36,
   "id": "1942cb67",
   "metadata": {
    "colab": {
     "base_uri": "https://localhost:8080/"
    },
    "id": "1942cb67",
    "outputId": "857cc054-050f-4f2d-d5b9-fa4c85e8e49d"
   },
   "outputs": [
    {
     "name": "stdout",
     "output_type": "stream",
     "text": [
      "              precision    recall  f1-score   support\n",
      "\n",
      "           0       0.81      0.32      0.46        53\n",
      "           1       0.75      0.97      0.84       227\n",
      "           2       0.84      0.35      0.49        60\n",
      "\n",
      "    accuracy                           0.76       340\n",
      "   macro avg       0.80      0.55      0.60       340\n",
      "weighted avg       0.77      0.76      0.72       340\n",
      "\n",
      "\n",
      " Optuna :  0.7588235294117647\n"
     ]
    }
   ],
   "source": [
    "# CatBoost Classifier 하이퍼 파라미터 고정\n",
    "\n",
    "params=  {'iterations': 857, 'learning_rate': 0.07097207730593516, 'depth': 8, \\\n",
    "        'l2_leaf_reg': 0.00012090525126196811, 'bootstrap_type': 'Bayesian', \\\n",
    "        'random_strength': 5.359110894800412, 'bagging_temperature': 0.7137022569955509, \\\n",
    "        'od_type': 'IncToDec', 'od_wait': 42}\n",
    "CBC = CatBoostClassifier(**params, verbose=0, random_state=37, task_type='GPU')\n",
    "CBC.fit(X_train, y_train)\n",
    "preds_CBC = CBC.predict(X_test)\n",
    "\n",
    "print(classification_report(y_test, preds_CBC))\n",
    "print(\"\\n Optuna : \", accuracy_score(y_test, preds_CBC))"
   ]
  },
  {
   "cell_type": "code",
   "execution_count": 37,
   "id": "eACiKQAXwMSW",
   "metadata": {
    "id": "eACiKQAXwMSW"
   },
   "outputs": [],
   "source": [
    "from optuna.visualization import plot_optimization_history\n",
    "from optuna.visualization import plot_param_importances\n",
    "from optuna.visualization import plot_parallel_coordinate\n",
    "from optuna.visualization import plot_contour"
   ]
  },
  {
   "cell_type": "markdown",
   "id": "458a5890",
   "metadata": {
    "id": "458a5890"
   },
   "source": [
    "### 3.2.1 GridSearch\n",
    "\n",
    "- hyperparameter optimization"
   ]
  },
  {
   "cell_type": "markdown",
   "id": "o8N-QHuIvNN3",
   "metadata": {
    "id": "o8N-QHuIvNN3"
   },
   "source": [
    "# 4.Ensemble"
   ]
  },
  {
   "cell_type": "markdown",
   "id": "2fe15f1a",
   "metadata": {
    "id": "2fe15f1a"
   },
   "source": [
    "## 4.1 Ensemble\n",
    "     1. 3-ensemble Modle\n",
    "     2. Cross-Validation 구축 후 성능 검증"
   ]
  },
  {
   "cell_type": "code",
   "execution_count": 38,
   "id": "Vm8q0p4Hyzg2",
   "metadata": {
    "colab": {
     "base_uri": "https://localhost:8080/"
    },
    "id": "Vm8q0p4Hyzg2",
    "outputId": "ce4faed5-fe78-485d-fd8b-b3b3a933e198",
    "tags": []
   },
   "outputs": [
    {
     "name": "stdout",
     "output_type": "stream",
     "text": [
      "[LightGBM] [Warning] feature_fraction is set=0.6536282159518209, colsample_bytree=1.0 will be ignored. Current value: feature_fraction=0.6536282159518209\n",
      "[LightGBM] [Warning] bagging_fraction is set=0.7302696718518357, subsample=1.0 will be ignored. Current value: bagging_fraction=0.7302696718518357\n",
      "[LightGBM] [Warning] lambda_l1 is set=0.00048021471491299205, reg_alpha=0.0 will be ignored. Current value: lambda_l1=0.00048021471491299205\n",
      "[LightGBM] [Warning] min_data_in_leaf is set=16, min_child_samples=20 will be ignored. Current value: min_data_in_leaf=16\n",
      "[LightGBM] [Warning] lambda_l2 is set=0.021386150387940235, reg_lambda=0.0 will be ignored. Current value: lambda_l2=0.021386150387940235\n"
     ]
    }
   ],
   "source": [
    "# models에 학습시킨 모델들을 집어넣고 다시 학습.\n",
    "\n",
    "models=[CBC,RF,LGBM] \n",
    "fit= [x.fit(train_x, train_y) for x in models]"
   ]
  },
  {
   "cell_type": "code",
   "execution_count": 39,
   "id": "0bcafdb3",
   "metadata": {
    "colab": {
     "base_uri": "https://localhost:8080/",
     "height": 265
    },
    "id": "0bcafdb3",
    "outputId": "e543ae93-0c7e-4710-a751-8b011455bb61"
   },
   "outputs": [
    {
     "data": {
      "image/png": "[encoded data removed]",
      "text/plain": [
       "<Figure size 640x480 with 1 Axes>"
      ]
     },
     "metadata": {},
     "output_type": "display_data"
    }
   ],
   "source": [
    "#prediction함수 생성하여 앙상블 - voting 방법 선택\n",
    "def prediction(models, test, mode=None, weights=None):\n",
    "    #hard voting일 경우\n",
    "    if mode == \"hard\":\n",
    "        preds = np.asarray([x.predict(test).reshape(-1) for x in models]).T\n",
    "        res = np.apply_along_axis(\n",
    "            lambda x: np.argmax(np.bincount(x, weights=weights)),\n",
    "            axis=1,\n",
    "            arr=preds\n",
    "        )  \n",
    "    #soft voting일 경우\n",
    "    elif mode == \"soft\":  \n",
    "        preds = np.asarray([x.predict_proba(test) for x in models])\n",
    "        res = np.zeros(preds[0].shape)\n",
    "        for pred, weight in zip(preds, weights):\n",
    "            res = res + pred*weight\n",
    "        res = np.argmax(preds, axis=0) \n",
    "    else:\n",
    "        res = models[0].predict(test)\n",
    "    return res\n",
    "\n",
    "#hard voting을 선택하여 모델 중요도별 가중치 제공.\n",
    "preds = prediction(models, test_x, 'hard', [2,5,4] )\n",
    "\n",
    "sns.countplot(x=preds);   "
   ]
  },
  {
   "cell_type": "markdown",
   "id": "KUOHpt3z847x",
   "metadata": {
    "id": "KUOHpt3z847x"
   },
   "source": [
    "## 4.2 Validation Score\n",
    "1. train.csv에서 split된 test set accuracy 100% 검증"
   ]
  },
  {
   "cell_type": "code",
   "execution_count": 45,
   "id": "Z3UesEBQ1r8z",
   "metadata": {
    "id": "Z3UesEBQ1r8z"
   },
   "outputs": [
    {
     "name": "stdout",
     "output_type": "stream",
     "text": [
      "[LightGBM] [Warning] feature_fraction is set=0.6536282159518209, colsample_bytree=1.0 will be ignored. Current value: feature_fraction=0.6536282159518209\n",
      "[LightGBM] [Warning] bagging_fraction is set=0.7302696718518357, subsample=1.0 will be ignored. Current value: bagging_fraction=0.7302696718518357\n",
      "[LightGBM] [Warning] lambda_l1 is set=0.00048021471491299205, reg_alpha=0.0 will be ignored. Current value: lambda_l1=0.00048021471491299205\n",
      "[LightGBM] [Warning] min_data_in_leaf is set=16, min_child_samples=20 will be ignored. Current value: min_data_in_leaf=16\n",
      "[LightGBM] [Warning] lambda_l2 is set=0.021386150387940235, reg_lambda=0.0 will be ignored. Current value: lambda_l2=0.021386150387940235\n"
     ]
    },
    {
     "data": {
      "text/html": [
       "<style>#sk-container-id-1 {color: black;background-color: white;}#sk-container-id-1 pre{padding: 0;}#sk-container-id-1 div.sk-toggleable {background-color: white;}#sk-container-id-1 label.sk-toggleable__label {cursor: pointer;display: block;width: 100%;margin-bottom: 0;padding: 0.3em;box-sizing: border-box;text-align: center;}#sk-container-id-1 label.sk-toggleable__label-arrow:before {content: \"▸\";float: left;margin-right: 0.25em;color: #696969;}#sk-container-id-1 label.sk-toggleable__label-arrow:hover:before {color: black;}#sk-container-id-1 div.sk-estimator:hover label.sk-toggleable__label-arrow:before {color: black;}#sk-container-id-1 div.sk-toggleable__content {max-height: 0;max-width: 0;overflow: hidden;text-align: left;background-color: #f0f8ff;}#sk-container-id-1 div.sk-toggleable__content pre {margin: 0.2em;color: black;border-radius: 0.25em;background-color: #f0f8ff;}#sk-container-id-1 input.sk-toggleable__control:checked~div.sk-toggleable__content {max-height: 200px;max-width: 100%;overflow: auto;}#sk-container-id-1 input.sk-toggleable__control:checked~label.sk-toggleable__label-arrow:before {content: \"▾\";}#sk-container-id-1 div.sk-estimator input.sk-toggleable__control:checked~label.sk-toggleable__label {background-color: #d4ebff;}#sk-container-id-1 div.sk-label input.sk-toggleable__control:checked~label.sk-toggleable__label {background-color: #d4ebff;}#sk-container-id-1 input.sk-hidden--visually {border: 0;clip: rect(1px 1px 1px 1px);clip: rect(1px, 1px, 1px, 1px);height: 1px;margin: -1px;overflow: hidden;padding: 0;position: absolute;width: 1px;}#sk-container-id-1 div.sk-estimator {font-family: monospace;background-color: #f0f8ff;border: 1px dotted black;border-radius: 0.25em;box-sizing: border-box;margin-bottom: 0.5em;}#sk-container-id-1 div.sk-estimator:hover {background-color: #d4ebff;}#sk-container-id-1 div.sk-parallel-item::after {content: \"\";width: 100%;border-bottom: 1px solid gray;flex-grow: 1;}#sk-container-id-1 div.sk-label:hover label.sk-toggleable__label {background-color: #d4ebff;}#sk-container-id-1 div.sk-serial::before {content: \"\";position: absolute;border-left: 1px solid gray;box-sizing: border-box;top: 0;bottom: 0;left: 50%;z-index: 0;}#sk-container-id-1 div.sk-serial {display: flex;flex-direction: column;align-items: center;background-color: white;padding-right: 0.2em;padding-left: 0.2em;position: relative;}#sk-container-id-1 div.sk-item {position: relative;z-index: 1;}#sk-container-id-1 div.sk-parallel {display: flex;align-items: stretch;justify-content: center;background-color: white;position: relative;}#sk-container-id-1 div.sk-item::before, #sk-container-id-1 div.sk-parallel-item::before {content: \"\";position: absolute;border-left: 1px solid gray;box-sizing: border-box;top: 0;bottom: 0;left: 50%;z-index: -1;}#sk-container-id-1 div.sk-parallel-item {display: flex;flex-direction: column;z-index: 1;position: relative;background-color: white;}#sk-container-id-1 div.sk-parallel-item:first-child::after {align-self: flex-end;width: 50%;}#sk-container-id-1 div.sk-parallel-item:last-child::after {align-self: flex-start;width: 50%;}#sk-container-id-1 div.sk-parallel-item:only-child::after {width: 0;}#sk-container-id-1 div.sk-dashed-wrapped {border: 1px dashed gray;margin: 0 0.4em 0.5em 0.4em;box-sizing: border-box;padding-bottom: 0.4em;background-color: white;}#sk-container-id-1 div.sk-label label {font-family: monospace;font-weight: bold;display: inline-block;line-height: 1.2em;}#sk-container-id-1 div.sk-label-container {text-align: center;}#sk-container-id-1 div.sk-container {/* jupyter's `normalize.less` sets `[hidden] { display: none; }` but bootstrap.min.css set `[hidden] { display: none !important; }` so we also need the `!important` here to be able to override the default hidden behavior on the sphinx rendered scikit-learn.org. See: https://github.com/scikit-learn/scikit-learn/issues/21755 */display: inline-block !important;position: relative;}#sk-container-id-1 div.sk-text-repr-fallback {display: none;}</style><div id=\"sk-container-id-1\" class=\"sk-top-container\"><div class=\"sk-text-repr-fallback\"><pre>VotingClassifier(estimators=[(&#x27;CatBoostClassifier&#x27;,\n",
       "                              &lt;catboost.core.CatBoostClassifier object at 0x7f9d7021a130&gt;),\n",
       "                             (&#x27;RandomForest&#x27;,\n",
       "                              RandomForestClassifier(bootstrap=False,\n",
       "                                                     criterion=&#x27;entropy&#x27;,\n",
       "                                                     min_samples_leaf=4,\n",
       "                                                     min_samples_split=10,\n",
       "                                                     n_estimators=300,\n",
       "                                                     random_state=42)),\n",
       "                             (&#x27;LGBM&#x27;,\n",
       "                              LGBMClassifier(bagging_fraction=0.7302696718518357,\n",
       "                                             feature_fraction=0.6536282159518209,\n",
       "                                             lambda_l1=0.00048021471491299205,\n",
       "                                             lambda_l2=0.021386150387940235,\n",
       "                                             max_bin=219, min_data_in_leaf=16,\n",
       "                                             num_leaves=83,\n",
       "                                             path_smooth=4.976692465226837e-07,\n",
       "                                             random_state=37))],\n",
       "                 weights=[2, 5, 4])</pre><b>In a Jupyter environment, please rerun this cell to show the HTML representation or trust the notebook. <br />On GitHub, the HTML representation is unable to render, please try loading this page with nbviewer.org.</b></div><div class=\"sk-container\" hidden><div class=\"sk-item sk-dashed-wrapped\"><div class=\"sk-label-container\"><div class=\"sk-label sk-toggleable\"><input class=\"sk-toggleable__control sk-hidden--visually\" id=\"sk-estimator-id-1\" type=\"checkbox\" ><label for=\"sk-estimator-id-1\" class=\"sk-toggleable__label sk-toggleable__label-arrow\">VotingClassifier</label><div class=\"sk-toggleable__content\"><pre>VotingClassifier(estimators=[(&#x27;CatBoostClassifier&#x27;,\n",
       "                              &lt;catboost.core.CatBoostClassifier object at 0x7f9d7021a130&gt;),\n",
       "                             (&#x27;RandomForest&#x27;,\n",
       "                              RandomForestClassifier(bootstrap=False,\n",
       "                                                     criterion=&#x27;entropy&#x27;,\n",
       "                                                     min_samples_leaf=4,\n",
       "                                                     min_samples_split=10,\n",
       "                                                     n_estimators=300,\n",
       "                                                     random_state=42)),\n",
       "                             (&#x27;LGBM&#x27;,\n",
       "                              LGBMClassifier(bagging_fraction=0.7302696718518357,\n",
       "                                             feature_fraction=0.6536282159518209,\n",
       "                                             lambda_l1=0.00048021471491299205,\n",
       "                                             lambda_l2=0.021386150387940235,\n",
       "                                             max_bin=219, min_data_in_leaf=16,\n",
       "                                             num_leaves=83,\n",
       "                                             path_smooth=4.976692465226837e-07,\n",
       "                                             random_state=37))],\n",
       "                 weights=[2, 5, 4])</pre></div></div></div><div class=\"sk-parallel\"><div class=\"sk-parallel-item\"><div class=\"sk-item\"><div class=\"sk-label-container\"><div class=\"sk-label sk-toggleable\"><label>CatBoostClassifier</label></div></div><div class=\"sk-serial\"><div class=\"sk-item\"><div class=\"sk-estimator sk-toggleable\"><input class=\"sk-toggleable__control sk-hidden--visually\" id=\"sk-estimator-id-2\" type=\"checkbox\" ><label for=\"sk-estimator-id-2\" class=\"sk-toggleable__label sk-toggleable__label-arrow\">CatBoostClassifier</label><div class=\"sk-toggleable__content\"><pre>&lt;catboost.core.CatBoostClassifier object at 0x7f9d7021a130&gt;</pre></div></div></div></div></div></div><div class=\"sk-parallel-item\"><div class=\"sk-item\"><div class=\"sk-label-container\"><div class=\"sk-label sk-toggleable\"><label>RandomForest</label></div></div><div class=\"sk-serial\"><div class=\"sk-item\"><div class=\"sk-estimator sk-toggleable\"><input class=\"sk-toggleable__control sk-hidden--visually\" id=\"sk-estimator-id-3\" type=\"checkbox\" ><label for=\"sk-estimator-id-3\" class=\"sk-toggleable__label sk-toggleable__label-arrow\">RandomForestClassifier</label><div class=\"sk-toggleable__content\"><pre>RandomForestClassifier(bootstrap=False, criterion=&#x27;entropy&#x27;, min_samples_leaf=4,\n",
       "                       min_samples_split=10, n_estimators=300, random_state=42)</pre></div></div></div></div></div></div><div class=\"sk-parallel-item\"><div class=\"sk-item\"><div class=\"sk-label-container\"><div class=\"sk-label sk-toggleable\"><label>LGBM</label></div></div><div class=\"sk-serial\"><div class=\"sk-item\"><div class=\"sk-estimator sk-toggleable\"><input class=\"sk-toggleable__control sk-hidden--visually\" id=\"sk-estimator-id-4\" type=\"checkbox\" ><label for=\"sk-estimator-id-4\" class=\"sk-toggleable__label sk-toggleable__label-arrow\">LGBMClassifier</label><div class=\"sk-toggleable__content\"><pre>LGBMClassifier(bagging_fraction=0.7302696718518357,\n",
       "               feature_fraction=0.6536282159518209,\n",
       "               lambda_l1=0.00048021471491299205, lambda_l2=0.021386150387940235,\n",
       "               max_bin=219, min_data_in_leaf=16, num_leaves=83,\n",
       "               path_smooth=4.976692465226837e-07, random_state=37)</pre></div></div></div></div></div></div></div></div></div></div>"
      ],
      "text/plain": [
       "VotingClassifier(estimators=[('CatBoostClassifier',\n",
       "                              <catboost.core.CatBoostClassifier object at 0x7f9d7021a130>),\n",
       "                             ('RandomForest',\n",
       "                              RandomForestClassifier(bootstrap=False,\n",
       "                                                     criterion='entropy',\n",
       "                                                     min_samples_leaf=4,\n",
       "                                                     min_samples_split=10,\n",
       "                                                     n_estimators=300,\n",
       "                                                     random_state=42)),\n",
       "                             ('LGBM',\n",
       "                              LGBMClassifier(bagging_fraction=0.7302696718518357,\n",
       "                                             feature_fraction=0.6536282159518209,\n",
       "                                             lambda_l1=0.00048021471491299205,\n",
       "                                             lambda_l2=0.021386150387940235,\n",
       "                                             max_bin=219, min_data_in_leaf=16,\n",
       "                                             num_leaves=83,\n",
       "                                             path_smooth=4.976692465226837e-07,\n",
       "                                             random_state=37))],\n",
       "                 weights=[2, 5, 4])"
      ]
     },
     "execution_count": 45,
     "metadata": {},
     "output_type": "execute_result"
    }
   ],
   "source": [
    "voting_model = sklearn.ensemble.VotingClassifier(estimators=[\n",
    "                ('CatBoostClassifier', CBC),\n",
    "                ('RandomForest', RF),\n",
    "                ('LGBM', LGBM)], \n",
    "                voting='hard', weights=[2,5,4])\n",
    "\n",
    "voting_model.fit(X_train, y_train)"
   ]
  },
  {
   "cell_type": "code",
   "execution_count": 46,
   "id": "TgLWsUI2A25b",
   "metadata": {
    "colab": {
     "base_uri": "https://localhost:8080/"
    },
    "id": "TgLWsUI2A25b",
    "outputId": "24b425ef-66a4-4329-fdac-afecd57bfd61"
   },
   "outputs": [
    {
     "name": "stderr",
     "output_type": "stream",
     "text": [
      "/usr/local/lib/python3.8/site-packages/sklearn/ensemble/_voting.py:68: VisibleDeprecationWarning: Creating an ndarray from ragged nested sequences (which is a list-or-tuple of lists-or-tuples-or ndarrays with different lengths or shapes) is deprecated. If you meant to do this, you must specify 'dtype=object' when creating the ndarray.\n",
      "  return np.asarray([est.predict(X) for est in self.estimators_]).T\n"
     ]
    },
    {
     "ename": "ValueError",
     "evalue": "could not broadcast input array from shape (340,1) into shape (340,)",
     "output_type": "error",
     "traceback": [
      "\u001b[0;31m---------------------------------------------------------------------------\u001b[0m",
      "\u001b[0;31mValueError\u001b[0m                                Traceback (most recent call last)",
      "Cell \u001b[0;32mIn[49], line 1\u001b[0m\n\u001b[0;32m----> 1\u001b[0m val_preds \u001b[38;5;241m=\u001b[39m \u001b[43mvoting_model\u001b[49m\u001b[38;5;241;43m.\u001b[39;49m\u001b[43mpredict\u001b[49m\u001b[43m(\u001b[49m\u001b[43mX_test\u001b[49m\u001b[38;5;241;43m.\u001b[39;49m\u001b[43msqueeze\u001b[49m\u001b[43m(\u001b[49m\u001b[43m)\u001b[49m\u001b[43m)\u001b[49m  \u001b[38;5;66;03m# 수정된 부분\u001b[39;00m\n\u001b[1;32m      2\u001b[0m val_score \u001b[38;5;241m=\u001b[39m sklearn\u001b[38;5;241m.\u001b[39mmetrics\u001b[38;5;241m.\u001b[39maccuracy_score(y_test, val_preds)\n\u001b[1;32m      5\u001b[0m \u001b[38;5;66;03m# val_preds = prediction(voting_model, X_test, 'hard', [2,5,4])\u001b[39;00m\n\u001b[1;32m      6\u001b[0m \u001b[38;5;66;03m# val_score= sklearn.metrics.accuracy_score(y_test, val_preds)\u001b[39;00m\n",
      "File \u001b[0;32m/usr/local/lib/python3.8/site-packages/sklearn/ensemble/_voting.py:366\u001b[0m, in \u001b[0;36mVotingClassifier.predict\u001b[0;34m(self, X)\u001b[0m\n\u001b[1;32m    363\u001b[0m     maj \u001b[38;5;241m=\u001b[39m np\u001b[38;5;241m.\u001b[39margmax(\u001b[38;5;28mself\u001b[39m\u001b[38;5;241m.\u001b[39mpredict_proba(X), axis\u001b[38;5;241m=\u001b[39m\u001b[38;5;241m1\u001b[39m)\n\u001b[1;32m    365\u001b[0m \u001b[38;5;28;01melse\u001b[39;00m:  \u001b[38;5;66;03m# 'hard' voting\u001b[39;00m\n\u001b[0;32m--> 366\u001b[0m     predictions \u001b[38;5;241m=\u001b[39m \u001b[38;5;28;43mself\u001b[39;49m\u001b[38;5;241;43m.\u001b[39;49m\u001b[43m_predict\u001b[49m\u001b[43m(\u001b[49m\u001b[43mX\u001b[49m\u001b[43m)\u001b[49m\n\u001b[1;32m    367\u001b[0m     maj \u001b[38;5;241m=\u001b[39m np\u001b[38;5;241m.\u001b[39mapply_along_axis(\n\u001b[1;32m    368\u001b[0m         \u001b[38;5;28;01mlambda\u001b[39;00m x: np\u001b[38;5;241m.\u001b[39margmax(np\u001b[38;5;241m.\u001b[39mbincount(x, weights\u001b[38;5;241m=\u001b[39m\u001b[38;5;28mself\u001b[39m\u001b[38;5;241m.\u001b[39m_weights_not_none)),\n\u001b[1;32m    369\u001b[0m         axis\u001b[38;5;241m=\u001b[39m\u001b[38;5;241m1\u001b[39m,\n\u001b[1;32m    370\u001b[0m         arr\u001b[38;5;241m=\u001b[39mpredictions,\n\u001b[1;32m    371\u001b[0m     )\n\u001b[1;32m    373\u001b[0m maj \u001b[38;5;241m=\u001b[39m \u001b[38;5;28mself\u001b[39m\u001b[38;5;241m.\u001b[39mle_\u001b[38;5;241m.\u001b[39minverse_transform(maj)\n",
      "File \u001b[0;32m/usr/local/lib/python3.8/site-packages/sklearn/ensemble/_voting.py:68\u001b[0m, in \u001b[0;36m_BaseVoting._predict\u001b[0;34m(self, X)\u001b[0m\n\u001b[1;32m     66\u001b[0m \u001b[38;5;28;01mdef\u001b[39;00m \u001b[38;5;21m_predict\u001b[39m(\u001b[38;5;28mself\u001b[39m, X):\n\u001b[1;32m     67\u001b[0m \u001b[38;5;250m    \u001b[39m\u001b[38;5;124;03m\"\"\"Collect results from clf.predict calls.\"\"\"\u001b[39;00m\n\u001b[0;32m---> 68\u001b[0m     \u001b[38;5;28;01mreturn\u001b[39;00m \u001b[43mnp\u001b[49m\u001b[38;5;241;43m.\u001b[39;49m\u001b[43masarray\u001b[49m\u001b[43m(\u001b[49m\u001b[43m[\u001b[49m\u001b[43mest\u001b[49m\u001b[38;5;241;43m.\u001b[39;49m\u001b[43mpredict\u001b[49m\u001b[43m(\u001b[49m\u001b[43mX\u001b[49m\u001b[43m)\u001b[49m\u001b[43m \u001b[49m\u001b[38;5;28;43;01mfor\u001b[39;49;00m\u001b[43m \u001b[49m\u001b[43mest\u001b[49m\u001b[43m \u001b[49m\u001b[38;5;129;43;01min\u001b[39;49;00m\u001b[43m \u001b[49m\u001b[38;5;28;43mself\u001b[39;49m\u001b[38;5;241;43m.\u001b[39;49m\u001b[43mestimators_\u001b[49m\u001b[43m]\u001b[49m\u001b[43m)\u001b[49m\u001b[38;5;241m.\u001b[39mT\n",
      "\u001b[0;31mValueError\u001b[0m: could not broadcast input array from shape (340,1) into shape (340,)"
     ]
    }
   ],
   "source": [
    "val_preds = voting_model.predict(X_test)  # 수정된 부분\n",
    "val_score = sklearn.metrics.accuracy_score(y_test, val_preds)\n",
    "\n",
    "\n",
    "# val_preds = prediction(voting_model, X_test, 'hard', [2,5,4])\n",
    "# val_score= sklearn.metrics.accuracy_score(y_test, val_preds)\n",
    "print(\"validation acc: \",val_score)"
   ]
  },
  {
   "cell_type": "markdown",
   "id": "zbNtWowN78mX",
   "metadata": {
    "id": "zbNtWowN78mX"
   },
   "source": [
    "# 5.Submit"
   ]
  },
  {
   "cell_type": "code",
   "execution_count": 50,
   "id": "YQHmg0PCJetf",
   "metadata": {
    "colab": {
     "base_uri": "https://localhost:8080/"
    },
    "id": "YQHmg0PCJetf",
    "outputId": "21efcb4c-4117-49b4-857a-2636fadc8351"
   },
   "outputs": [
    {
     "data": {
      "text/plain": [
       "1    428\n",
       "2     74\n",
       "0     33\n",
       "dtype: int64"
      ]
     },
     "execution_count": 50,
     "metadata": {},
     "output_type": "execute_result"
    }
   ],
   "source": [
    "submit = pd.read_csv('sample_submission.csv')\n",
    "submit['Y_Class'] = preds\n",
    "\n",
    "submit.to_csv('DACON_Submission.csv', index=False)\n",
    "pd.DataFrame(preds).value_counts()"
   ]
  },
  {
   "cell_type": "markdown",
   "id": "utf4-GCG5REy",
   "metadata": {
    "id": "utf4-GCG5REy"
   },
   "source": [
    "# 6.References\n",
    "PPT에 기재하였습니다\n"
   ]
  },
  {
   "cell_type": "markdown",
   "id": "f5sg6EQYMj_P",
   "metadata": {
    "id": "f5sg6EQYMj_P"
   },
   "source": [
    "# THE END"
   ]
  }
 ],
 "metadata": {
  "accelerator": "GPU",
  "colab": {
   "machine_shape": "hm",
   "provenance": [],
   "toc_visible": true
  },
  "gpuClass": "standard",
  "kernelspec": {
   "display_name": "Python 3 (ipykernel)",
   "language": "python",
   "name": "python3"
  },
  "language_info": {
   "codemirror_mode": {
    "name": "ipython",
    "version": 3
   },
   "file_extension": ".py",
   "mimetype": "text/x-python",
   "name": "python",
   "nbconvert_exporter": "python",
   "pygments_lexer": "ipython3",
   "version": "3.8.9"
  }
 },
 "nbformat": 4,
 "nbformat_minor": 5
}
